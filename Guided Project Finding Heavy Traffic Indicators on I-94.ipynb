{
 "cells": [
  {
   "attachments": {},
   "cell_type": "markdown",
   "metadata": {},
   "source": [
    "# Indicators of Heavy Traffic on I-94\n"
   ]
  },
  {
   "attachments": {},
   "cell_type": "markdown",
   "metadata": {},
   "source": [
    "In this project, we're going to analyze a dataset about the westbound traffic on the I-94 Interstate highway.\n",
    "\n",
    "The goal of our analysis is to determine a few indicators of heavy traffic on I-94. These indicators can be weather type, time of the day, time of the week, etc."
   ]
  },
  {
   "attachments": {},
   "cell_type": "markdown",
   "metadata": {},
   "source": [
    "## The I-94 Traffic Dataset"
   ]
  },
  {
   "attachments": {},
   "cell_type": "markdown",
   "metadata": {},
   "source": [
    "John Hogue made the dataset available that we'll be working with, and you can download it from the UCI Machine Learning Repository."
   ]
  },
  {
   "cell_type": "code",
   "execution_count": 1,
   "metadata": {},
   "outputs": [],
   "source": [
    "import pandas as pd\n",
    "import matplotlib.pyplot as plt\n",
    "import seaborn as sns\n",
    "%matplotlib inline\n",
    "\n",
    "\n",
    "i_94=pd.read_csv(\"..\\\\my_datasets\\\\Metro_Interstate_Traffic_Volume.csv\")"
   ]
  },
  {
   "cell_type": "code",
   "execution_count": 2,
   "metadata": {},
   "outputs": [
    {
     "data": {
      "text/html": [
       "<div>\n",
       "<style scoped>\n",
       "    .dataframe tbody tr th:only-of-type {\n",
       "        vertical-align: middle;\n",
       "    }\n",
       "\n",
       "    .dataframe tbody tr th {\n",
       "        vertical-align: top;\n",
       "    }\n",
       "\n",
       "    .dataframe thead th {\n",
       "        text-align: right;\n",
       "    }\n",
       "</style>\n",
       "<table border=\"1\" class=\"dataframe\">\n",
       "  <thead>\n",
       "    <tr style=\"text-align: right;\">\n",
       "      <th></th>\n",
       "      <th>holiday</th>\n",
       "      <th>temp</th>\n",
       "      <th>rain_1h</th>\n",
       "      <th>snow_1h</th>\n",
       "      <th>clouds_all</th>\n",
       "      <th>weather_main</th>\n",
       "      <th>weather_description</th>\n",
       "      <th>date_time</th>\n",
       "      <th>traffic_volume</th>\n",
       "    </tr>\n",
       "  </thead>\n",
       "  <tbody>\n",
       "    <tr>\n",
       "      <th>0</th>\n",
       "      <td>NaN</td>\n",
       "      <td>288.28</td>\n",
       "      <td>0.0</td>\n",
       "      <td>0.0</td>\n",
       "      <td>40</td>\n",
       "      <td>Clouds</td>\n",
       "      <td>scattered clouds</td>\n",
       "      <td>2012-10-02 09:00:00</td>\n",
       "      <td>5545</td>\n",
       "    </tr>\n",
       "    <tr>\n",
       "      <th>1</th>\n",
       "      <td>NaN</td>\n",
       "      <td>289.36</td>\n",
       "      <td>0.0</td>\n",
       "      <td>0.0</td>\n",
       "      <td>75</td>\n",
       "      <td>Clouds</td>\n",
       "      <td>broken clouds</td>\n",
       "      <td>2012-10-02 10:00:00</td>\n",
       "      <td>4516</td>\n",
       "    </tr>\n",
       "    <tr>\n",
       "      <th>2</th>\n",
       "      <td>NaN</td>\n",
       "      <td>289.58</td>\n",
       "      <td>0.0</td>\n",
       "      <td>0.0</td>\n",
       "      <td>90</td>\n",
       "      <td>Clouds</td>\n",
       "      <td>overcast clouds</td>\n",
       "      <td>2012-10-02 11:00:00</td>\n",
       "      <td>4767</td>\n",
       "    </tr>\n",
       "    <tr>\n",
       "      <th>3</th>\n",
       "      <td>NaN</td>\n",
       "      <td>290.13</td>\n",
       "      <td>0.0</td>\n",
       "      <td>0.0</td>\n",
       "      <td>90</td>\n",
       "      <td>Clouds</td>\n",
       "      <td>overcast clouds</td>\n",
       "      <td>2012-10-02 12:00:00</td>\n",
       "      <td>5026</td>\n",
       "    </tr>\n",
       "    <tr>\n",
       "      <th>4</th>\n",
       "      <td>NaN</td>\n",
       "      <td>291.14</td>\n",
       "      <td>0.0</td>\n",
       "      <td>0.0</td>\n",
       "      <td>75</td>\n",
       "      <td>Clouds</td>\n",
       "      <td>broken clouds</td>\n",
       "      <td>2012-10-02 13:00:00</td>\n",
       "      <td>4918</td>\n",
       "    </tr>\n",
       "  </tbody>\n",
       "</table>\n",
       "</div>"
      ],
      "text/plain": [
       "  holiday    temp  rain_1h  snow_1h  clouds_all weather_main  \\\n",
       "0     NaN  288.28      0.0      0.0          40       Clouds   \n",
       "1     NaN  289.36      0.0      0.0          75       Clouds   \n",
       "2     NaN  289.58      0.0      0.0          90       Clouds   \n",
       "3     NaN  290.13      0.0      0.0          90       Clouds   \n",
       "4     NaN  291.14      0.0      0.0          75       Clouds   \n",
       "\n",
       "  weather_description            date_time  traffic_volume  \n",
       "0    scattered clouds  2012-10-02 09:00:00            5545  \n",
       "1       broken clouds  2012-10-02 10:00:00            4516  \n",
       "2     overcast clouds  2012-10-02 11:00:00            4767  \n",
       "3     overcast clouds  2012-10-02 12:00:00            5026  \n",
       "4       broken clouds  2012-10-02 13:00:00            4918  "
      ]
     },
     "execution_count": 2,
     "metadata": {},
     "output_type": "execute_result"
    }
   ],
   "source": [
    "i_94.head()\n"
   ]
  },
  {
   "cell_type": "code",
   "execution_count": 3,
   "metadata": {},
   "outputs": [
    {
     "data": {
      "text/html": [
       "<div>\n",
       "<style scoped>\n",
       "    .dataframe tbody tr th:only-of-type {\n",
       "        vertical-align: middle;\n",
       "    }\n",
       "\n",
       "    .dataframe tbody tr th {\n",
       "        vertical-align: top;\n",
       "    }\n",
       "\n",
       "    .dataframe thead th {\n",
       "        text-align: right;\n",
       "    }\n",
       "</style>\n",
       "<table border=\"1\" class=\"dataframe\">\n",
       "  <thead>\n",
       "    <tr style=\"text-align: right;\">\n",
       "      <th></th>\n",
       "      <th>holiday</th>\n",
       "      <th>temp</th>\n",
       "      <th>rain_1h</th>\n",
       "      <th>snow_1h</th>\n",
       "      <th>clouds_all</th>\n",
       "      <th>weather_main</th>\n",
       "      <th>weather_description</th>\n",
       "      <th>date_time</th>\n",
       "      <th>traffic_volume</th>\n",
       "    </tr>\n",
       "  </thead>\n",
       "  <tbody>\n",
       "    <tr>\n",
       "      <th>48199</th>\n",
       "      <td>NaN</td>\n",
       "      <td>283.45</td>\n",
       "      <td>0.0</td>\n",
       "      <td>0.0</td>\n",
       "      <td>75</td>\n",
       "      <td>Clouds</td>\n",
       "      <td>broken clouds</td>\n",
       "      <td>2018-09-30 19:00:00</td>\n",
       "      <td>3543</td>\n",
       "    </tr>\n",
       "    <tr>\n",
       "      <th>48200</th>\n",
       "      <td>NaN</td>\n",
       "      <td>282.76</td>\n",
       "      <td>0.0</td>\n",
       "      <td>0.0</td>\n",
       "      <td>90</td>\n",
       "      <td>Clouds</td>\n",
       "      <td>overcast clouds</td>\n",
       "      <td>2018-09-30 20:00:00</td>\n",
       "      <td>2781</td>\n",
       "    </tr>\n",
       "    <tr>\n",
       "      <th>48201</th>\n",
       "      <td>NaN</td>\n",
       "      <td>282.73</td>\n",
       "      <td>0.0</td>\n",
       "      <td>0.0</td>\n",
       "      <td>90</td>\n",
       "      <td>Thunderstorm</td>\n",
       "      <td>proximity thunderstorm</td>\n",
       "      <td>2018-09-30 21:00:00</td>\n",
       "      <td>2159</td>\n",
       "    </tr>\n",
       "    <tr>\n",
       "      <th>48202</th>\n",
       "      <td>NaN</td>\n",
       "      <td>282.09</td>\n",
       "      <td>0.0</td>\n",
       "      <td>0.0</td>\n",
       "      <td>90</td>\n",
       "      <td>Clouds</td>\n",
       "      <td>overcast clouds</td>\n",
       "      <td>2018-09-30 22:00:00</td>\n",
       "      <td>1450</td>\n",
       "    </tr>\n",
       "    <tr>\n",
       "      <th>48203</th>\n",
       "      <td>NaN</td>\n",
       "      <td>282.12</td>\n",
       "      <td>0.0</td>\n",
       "      <td>0.0</td>\n",
       "      <td>90</td>\n",
       "      <td>Clouds</td>\n",
       "      <td>overcast clouds</td>\n",
       "      <td>2018-09-30 23:00:00</td>\n",
       "      <td>954</td>\n",
       "    </tr>\n",
       "  </tbody>\n",
       "</table>\n",
       "</div>"
      ],
      "text/plain": [
       "      holiday    temp  rain_1h  snow_1h  clouds_all  weather_main  \\\n",
       "48199     NaN  283.45      0.0      0.0          75        Clouds   \n",
       "48200     NaN  282.76      0.0      0.0          90        Clouds   \n",
       "48201     NaN  282.73      0.0      0.0          90  Thunderstorm   \n",
       "48202     NaN  282.09      0.0      0.0          90        Clouds   \n",
       "48203     NaN  282.12      0.0      0.0          90        Clouds   \n",
       "\n",
       "          weather_description            date_time  traffic_volume  \n",
       "48199           broken clouds  2018-09-30 19:00:00            3543  \n",
       "48200         overcast clouds  2018-09-30 20:00:00            2781  \n",
       "48201  proximity thunderstorm  2018-09-30 21:00:00            2159  \n",
       "48202         overcast clouds  2018-09-30 22:00:00            1450  \n",
       "48203         overcast clouds  2018-09-30 23:00:00             954  "
      ]
     },
     "execution_count": 3,
     "metadata": {},
     "output_type": "execute_result"
    }
   ],
   "source": [
    "i_94.tail()"
   ]
  },
  {
   "cell_type": "code",
   "execution_count": 4,
   "metadata": {},
   "outputs": [
    {
     "name": "stdout",
     "output_type": "stream",
     "text": [
      "<class 'pandas.core.frame.DataFrame'>\n",
      "RangeIndex: 48204 entries, 0 to 48203\n",
      "Data columns (total 9 columns):\n",
      " #   Column               Non-Null Count  Dtype  \n",
      "---  ------               --------------  -----  \n",
      " 0   holiday              61 non-null     object \n",
      " 1   temp                 48204 non-null  float64\n",
      " 2   rain_1h              48204 non-null  float64\n",
      " 3   snow_1h              48204 non-null  float64\n",
      " 4   clouds_all           48204 non-null  int64  \n",
      " 5   weather_main         48204 non-null  object \n",
      " 6   weather_description  48204 non-null  object \n",
      " 7   date_time            48204 non-null  object \n",
      " 8   traffic_volume       48204 non-null  int64  \n",
      "dtypes: float64(3), int64(2), object(4)\n",
      "memory usage: 3.3+ MB\n"
     ]
    }
   ],
   "source": [
    "i_94.info()"
   ]
  },
  {
   "attachments": {},
   "cell_type": "markdown",
   "metadata": {},
   "source": [
    "The dataset has 48,204 rows and 9 columns, and there are no null values. Each row describes traffic and weather data for a specific hour — we have data from 2012-10-02 09:00:00 until 2018-09-30 23:00:00.\n",
    "\n",
    "A station located approximately midway between Minneapolis and Saint Paul records the traffic data (see the dataset documentation). For this station, the direction of the route is westbound (i.e., cars moving from east to west). This means that the results of our analysis will be about the westbound traffic in the proximity of the station. In other words, we should avoid generalizing our results for the entire I-94 highway."
   ]
  },
  {
   "attachments": {},
   "cell_type": "markdown",
   "metadata": {},
   "source": [
    "## Analyzing Traffic Volume\n"
   ]
  },
  {
   "attachments": {},
   "cell_type": "markdown",
   "metadata": {},
   "source": [
    "We're going to start our analysis by examining the distribution of the traffic_volume column.\n",
    "\n"
   ]
  },
  {
   "cell_type": "code",
   "execution_count": 5,
   "metadata": {},
   "outputs": [
    {
     "data": {
      "text/plain": [
       "<Axes: ylabel='Frequency'>"
      ]
     },
     "execution_count": 5,
     "metadata": {},
     "output_type": "execute_result"
    },
    {
     "data": {
      "image/png": "[encoded data removed]",
      "text/plain": [
       "<Figure size 640x480 with 1 Axes>"
      ]
     },
     "metadata": {},
     "output_type": "display_data"
    }
   ],
   "source": [
    "i_94['traffic_volume'].plot.hist()"
   ]
  },
  {
   "cell_type": "code",
   "execution_count": 6,
   "metadata": {},
   "outputs": [
    {
     "data": {
      "text/plain": [
       "count    48204.000000\n",
       "mean      3259.818355\n",
       "std       1986.860670\n",
       "min          0.000000\n",
       "25%       1193.000000\n",
       "50%       3380.000000\n",
       "75%       4933.000000\n",
       "max       7280.000000\n",
       "Name: traffic_volume, dtype: float64"
      ]
     },
     "execution_count": 6,
     "metadata": {},
     "output_type": "execute_result"
    }
   ],
   "source": [
    "i_94['traffic_volume'].describe()"
   ]
  },
  {
   "attachments": {},
   "cell_type": "markdown",
   "metadata": {},
   "source": [
    "Between 2012-10-02 09:00:00 and 2018-09-30 23:00:00, the hourly traffic volume varied from 0 to 7,280 cars, with an average of 3,260 cars.\n",
    "\n",
    "About 25% of the time, there were only 1,193 cars or fewer passing the station each hour — this probably occurs during the night, or when a road is under construction. However, about 25% of the time, the traffic volume was four times as much (4,933 cars or more).\n",
    "\n",
    "This observation gives our analysis an interesting direction: comparing daytime data with nighttime data."
   ]
  },
  {
   "attachments": {},
   "cell_type": "markdown",
   "metadata": {},
   "source": [
    "## Traffic Volume: Day vs. Night\n"
   ]
  },
  {
   "attachments": {},
   "cell_type": "markdown",
   "metadata": {},
   "source": [
    "We'll start by dividing the dataset into two parts:\n",
    "\n",
    "* Daytime data: hours from 7 AM to 7 PM (12 hours)\n",
    "* Nighttime data: hours from 7 PM to 7 AM (12 hours)\n",
    "While this is not a perfect criterion for distinguishing between nighttime and daytime, it's a good starting point."
   ]
  },
  {
   "cell_type": "code",
   "execution_count": 7,
   "metadata": {},
   "outputs": [],
   "source": [
    "i_94['date_time']=pd.to_datetime(i_94['date_time'])"
   ]
  },
  {
   "cell_type": "code",
   "execution_count": 8,
   "metadata": {},
   "outputs": [
    {
     "name": "stdout",
     "output_type": "stream",
     "text": [
      "(23877, 9)\n",
      "(24327, 9)\n"
     ]
    }
   ],
   "source": [
    "day=i_94.copy()[(i_94['date_time'].dt.hour >= 7) & (i_94['date_time'].dt.hour < 19)]\n",
    "print(day.shape)\n",
    "\n",
    "night=i_94.copy()[(i_94['date_time'].dt.hour >= 19) | (i_94['date_time'].dt.hour < 7)]\n",
    "print(night.shape)"
   ]
  },
  {
   "attachments": {},
   "cell_type": "markdown",
   "metadata": {},
   "source": [
    "This significant difference in row numbers between day and night is due to a few hours of missing data. For instance, if you look at rows 176 and 177 (i_94.iloc[176:178]), you'll notice there's no data for two hours (4 and 5)."
   ]
  },
  {
   "attachments": {},
   "cell_type": "markdown",
   "metadata": {},
   "source": [
    "## Traffic Volume: Day vs. Night (II)\n"
   ]
  },
  {
   "attachments": {},
   "cell_type": "markdown",
   "metadata": {},
   "source": [
    "Now that we've isolated day and night, we're going to look at the histograms of traffic volume side-by-side by using a grid chart.\n",
    "\n"
   ]
  },
  {
   "cell_type": "code",
   "execution_count": 9,
   "metadata": {},
   "outputs": [
    {
     "data": {
      "text/plain": [
       "Text(0, 0.5, 'Frequency')"
      ]
     },
     "execution_count": 9,
     "metadata": {},
     "output_type": "execute_result"
    },
    {
     "data": {
      "image/png": "[encoded data removed]",
      "text/plain": [
       "<Figure size 1100x350 with 2 Axes>"
      ]
     },
     "metadata": {},
     "output_type": "display_data"
    }
   ],
   "source": [
    "plt.figure(figsize=(11,3.5))\n",
    "\n",
    "plt.subplot(1, 2, 1)\n",
    "plt.hist(day['traffic_volume'])\n",
    "plt.xlim(-100, 7500)\n",
    "plt.ylim(0, 8000)\n",
    "plt.title('Traffic Volume: Day') \n",
    "plt.xlabel('Traffic Volume')\n",
    "plt.ylabel('Frequency')\n",
    "\n",
    "\n",
    "plt.subplot(1, 2, 2)\n",
    "plt.hist(night['traffic_volume'])\n",
    "plt.xlim(-100, 7500)\n",
    "plt.ylim(0, 8000)\n",
    "plt.title('Traffic Volume: Night') \n",
    "plt.xlabel('Traffic Volume')\n",
    "plt.ylabel('Frequency')"
   ]
  },
  {
   "cell_type": "code",
   "execution_count": 10,
   "metadata": {},
   "outputs": [
    {
     "data": {
      "text/plain": [
       "count    23877.000000\n",
       "mean      4762.047452\n",
       "std       1174.546482\n",
       "min          0.000000\n",
       "25%       4252.000000\n",
       "50%       4820.000000\n",
       "75%       5559.000000\n",
       "max       7280.000000\n",
       "Name: traffic_volume, dtype: float64"
      ]
     },
     "execution_count": 10,
     "metadata": {},
     "output_type": "execute_result"
    }
   ],
   "source": [
    "day['traffic_volume'].describe()"
   ]
  },
  {
   "cell_type": "code",
   "execution_count": 11,
   "metadata": {},
   "outputs": [
    {
     "data": {
      "text/plain": [
       "count    24327.000000\n",
       "mean      1785.377441\n",
       "std       1441.951197\n",
       "min          0.000000\n",
       "25%        530.000000\n",
       "50%       1287.000000\n",
       "75%       2819.000000\n",
       "max       6386.000000\n",
       "Name: traffic_volume, dtype: float64"
      ]
     },
     "execution_count": 11,
     "metadata": {},
     "output_type": "execute_result"
    }
   ],
   "source": [
    "night['traffic_volume'].describe()"
   ]
  },
  {
   "attachments": {},
   "cell_type": "markdown",
   "metadata": {},
   "source": [
    "The histogram that shows the distribution of traffic volume during the day is left skewed. This means that most of the traffic volume values are high — there are 4,252 or more cars passing the station each hour 75% of the time (because 25% of values are less than 4,252).\n",
    "\n",
    "The histogram displaying the nighttime data is right skewed. This means that most of the traffic volume values are low — 75% of the time, the number of cars that passed the station each hour was less than 2,819.\n",
    "\n",
    "Although there are still measurements of over 5,000 cars per hour, the traffic at night is generally light. Our goal is to find indicators of heavy traffic, so we'll only focus on the daytime data moving forward."
   ]
  },
  {
   "attachments": {},
   "cell_type": "markdown",
   "metadata": {},
   "source": [
    "## Time Indicators\n"
   ]
  },
  {
   "attachments": {},
   "cell_type": "markdown",
   "metadata": {},
   "source": [
    "One of the possible indicators of heavy traffic is time. There might be more people on the road in a certain month, on a certain day, or at a certain time of day.\n",
    "\n",
    "We're going to look at a few line plots showing how the traffic volume changes according to the following:\n",
    "\n",
    "- Month\n",
    "- Day of the week\n",
    "- Time of day"
   ]
  },
  {
   "cell_type": "code",
   "execution_count": 24,
   "metadata": {},
   "outputs": [
    {
     "ename": "TypeError",
     "evalue": "Could not convert ClearCloudsCloudsClearCloudsCloudsCloudsCloudsClearCloudsCloudsClearClearCloudsHazeHazeSnowCloudsCloudsSnowSnowMistSnowHazeSnowHazeSnowCloudsSnowMistFogSnowMistSnowMistSnowMistSnowMistHazeSnowMistHazeSnowMistSnowMistMistMistHazeSnowSnowSnowMistSnowMistSnowMistSnowClearClearClearClearClearClearClearClearClearClearClearClearClearClearClearCloudsCloudsCloudsMistMistMistMistHazeHazeMistHazeHazeHazeHazeHazeClearCloudsCloudsClearClearClearClearCloudsCloudsCloudsCloudsCloudsCloudsCloudsCloudsCloudsCloudsCloudsCloudsCloudsCloudsCloudsCloudsCloudsMistMistMistMistHazeCloudsCloudsCloudsCloudsCloudsCloudsCloudsClearCloudsCloudsCloudsCloudsCloudsCloudsCloudsCloudsCloudsRainRainDrizzleDrizzleRainRainDrizzleMistMistMistMistDrizzleMistFogDrizzleMistFogDrizzleMistDrizzleMistDrizzleMistFogDrizzleMistMistDrizzleDrizzleMistDrizzleRainSnowSnowHazeSnowCloudsCloudsSnowCloudsCloudsCloudsCloudsSnowSnowHazeSnowHazeHazeSnowSnowHazeSnowSnowHazeSnowHazeCloudsCloudsCloudsCloudsCloudsCloudsCloudsCloudsCloudsClearCloudsCloudsClearCloudsCloudsClearClearClearClearClearCloudsCloudsClearClearMistSnowCloudsCloudsCloudsCloudsSnowSnowSnowMistSnowCloudsCloudsClearCloudsCloudsSnowSnowSnowHazeCloudsCloudsClearClearCloudsCloudsCloudsCloudsCloudsCloudsCloudsCloudsCloudsCloudsCloudsCloudsCloudsCloudsMistMistMistCloudsCloudsCloudsCloudsHazeSnowCloudsCloudsCloudsCloudsCloudsCloudsCloudsCloudsCloudsSnowHazeCloudsCloudsHazeHazeHazeCloudsCloudsCloudsCloudsClearCloudsCloudsCloudsCloudsCloudsCloudsCloudsCloudsCloudsCloudsCloudsSnowMistSnowHazeMistSnowSnowCloudsCloudsCloudsCloudsCloudsCloudsCloudsCloudsCloudsCloudsCloudsCloudsSnowSnowSnowCloudsCloudsCloudsCloudsCloudsCloudsCloudsCloudsCloudsCloudsCloudsCloudsRainMistSnowSnowSnowMistMistMistMistCloudsCloudsCloudsCloudsCloudsCloudsCloudsCloudsCloudsCloudsCloudsCloudsCloudsCloudsCloudsCloudsCloudsCloudsCloudsCloudsCloudsCloudsCloudsCloudsCloudsCloudsCloudsCloudsCloudsCloudsClearClearClearClearCloudsCloudsCloudsCloudsCloudsClearCloudsCloudsCloudsCloudsCloudsSnowSnowSnowHazeHazeSnowHazeSnowMistRainHazeMistHazeSnowMistMistHazeCloudsSnowCloudsSnowCloudsCloudsCloudsCloudsCloudsCloudsClearClearClearClearClearClearClearCloudsCloudsHazeSnowCloudsCloudsCloudsCloudsCloudsCloudsCloudsCloudsCloudsClearCloudsCloudsCloudsCloudsClearClearClearCloudsCloudsCloudsCloudsCloudsClearCloudsClearClearCloudsClearClearClearClearCloudsCloudsClearClearCloudsCloudsCloudsCloudsCloudsCloudsCloudsCloudsCloudsCloudsCloudsCloudsMistMistMistMistMistMistMistMistMistMistMistMistCloudsMistMistMistCloudsCloudsCloudsCloudsCloudsCloudsCloudsCloudsCloudsCloudsCloudsRainRainRainRainRainRainRainCloudsCloudsCloudsCloudsCloudsSnowCloudsCloudsRainCloudsCloudsCloudsSnowFogSnowMistHazeSnowMistHazeSnowMistHazeSnowCloudsCloudsClearCloudsCloudsClearCloudsCloudsCloudsCloudsCloudsCloudsCloudsCloudsCloudsHazeSnowMistRainSnowMistHazeMistSnowRainHazeRainHazeRainSnowRainHazeHazeHazeCloudsCloudsCloudsCloudsCloudsCloudsCloudsCloudsCloudsClearCloudsCloudsCloudsCloudsCloudsCloudsCloudsCloudsCloudsCloudsCloudsCloudsCloudsCloudsCloudsCloudsCloudsCloudsCloudsCloudsCloudsRainRainRainRainRainRainRainRainCloudsSnowSnowRainSnowSnowHazeSnowCloudsCloudsCloudsCloudsCloudsCloudsClearClearClearCloudsCloudsCloudsSnowHazeSnowSnowSnowHazeSnowHazeHazeSnowHazeHazeHazeCloudsClearClearCloudsCloudsCloudsClearClearClearClearClearClearClearClearCloudsClearCloudsCloudsCloudsCloudsCloudsCloudsCloudsRainCloudsSnowRainRainSnowMistCloudsCloudsCloudsSnowSnowHazeCloudsCloudsCloudsCloudsCloudsCloudsSnowMistCloudsCloudsCloudsCloudsCloudsCloudsCloudsCloudsCloudsCloudsCloudsClearClearClearClearClearClearClearClearClearClearClearClearClearClearClearClearClearClearCloudsCloudsCloudsCloudsCloudsClearCloudsCloudsCloudsCloudsCloudsCloudsCloudsRainCloudsCloudsCloudsRainRainRainRainRainRainRainRainClearClearClearClearClearClearClearClearClearClearRainRainClearClearClearClearClearCloudsCloudsCloudsClearClearClearClearClearClearClearClearClearClearClearClearClearCloudsCloudsCloudsCloudsCloudsCloudsClearMistFogFogMistFogMistSnowMistSnowClearClearClearCloudsCloudsClearClearCloudsClearCloudsClearClearClearClearClearClearCloudsRainCloudsHazeSnowMistSnowMistRainSnowMistSnowSnowMistMistSnowSnowMistSnowMistMistSnowMistSnowMistSnowMistSnowSnowMistSnowMistSnowMistCloudsCloudsSnowHazeMistSnowHazeCloudsCloudsClearClearClearClearClearClearClearClearHazeSnowHazeMistSnowSnowSnowHazeMistSnowClearClearClearClearClearClearCloudsSnowHazeCloudsCloudsHazeHazeHazeMistHazeMistHazeMistMistHazeHazeMistMistHazeMistSnowSnowCloudsCloudsClearClearCloudsCloudsCloudsSnowHazeSnowHazeHazeClearClearClearClearClearClearClearClearClearClearClearCloudsCloudsCloudsCloudsCloudsCloudsCloudsClearClearClearClearCloudsCloudsCloudsSnowMistSnowMistHazeSnowMistHazeMistSnowMistHazeMistHazeHazeMistMistHazeMistHazeSnowHazeMistSnowHazeMistSnowHazeMistSnowHazeMistSnowHazeSnowMistSnowHazeSnowSnowHazeSnowCloudsCloudsCloudsSnowHazeSnowCloudsCloudsHazeHazeMistSnowMistSnowSnowMistSnowMistMistSnowHazeHazeMistMistFogSnowMistFogMistFogMistHazeMistRainMistRainSnowSnowMistHazeSnowSnowSnowHazeCloudsSnowCloudsSnowMistCloudsCloudsCloudsCloudsCloudsCloudsCloudsCloudsCloudsCloudsCloudsCloudsCloudsClearCloudsCloudsCloudsCloudsCloudsClearCloudsCloudsCloudsCloudsClearClearCloudsRainDrizzleCloudsMistFogMistFogClearCloudsClearCloudsClearCloudsClearCloudsClearClearCloudsCloudsCloudsCloudsCloudsClearCloudsCloudsCloudsCloudsSnowSnowSnowSnowMistSnowHazeMistHazeSnowMistRainMistHazeSnowDrizzleMistSnowMistSnowCloudsCloudsSnowSnowSnowSnowCloudsHazeClearClearClearClearClearHazeSnowHazeHazeClearClearClearClearClearClearClearCloudsMistMistMistMistClearClearCloudsHazeHazeCloudsCloudsCloudsHazeClearClearClearClearClearClearClearCloudsCloudsCloudsCloudsClearCloudsClearClearHazeClearClearClearClearClearClearClearClearSnowSnowClearClearCloudsClearCloudsSnowSnowSnowSnowCloudsCloudsCloudsSnowSnowSnowSnowMistHazeSnowMistSnowMistFogSnowMistSnowMistHazeHazeSnowMistSnowSnowMistSnowMistFogSnowMistSnowFogMistSnowMistSnowMistSnowFogHazeHazeSnowMistHazeHazeClearSnowMistSnowMistSnowMistSnowMistSnowHazeSnowSnowCloudsClearClearClearClearHazeCloudsHazeClearClearSnowSnowHazeSnowSnowHazeHazeClearCloudsCloudsCloudsClearCloudsCloudsCloudsCloudsCloudsSnowSnowCloudsCloudsClearClearSnowClearClearClearClearClearClearClearClearClearMistMistSnowClearClearClearClearCloudsClearClearCloudsClearCloudsMistHazeMistMistHazeMistHazeHazeMistHazeMistHazeMistHazeMistHazeHazeHazeCloudsMistDrizzleMistMistHazeFogHazeMistFogHazeMistMistHazeMistHazeMistHazeMistMistMistMistMistHazeHazeMistMistHazeMistHazeClearClearClearClearClearClearClearClearMistFogMistHazeMistHazeFogMistHazeHazeMistMistMistMistHazeMistMistCloudsCloudsMistDrizzleFogRainDrizzleMistSnowDrizzleMistRainSnowDrizzleMistMistMistMistMistFogMistFogMistMistFogMistFogMistRainFogDrizzleMistDrizzleRainDrizzleMistRainDrizzleMistFogRainDrizzleMistMistRainDrizzleMistRainMistFogMistFogRainMistFogDrizzleMistFogDrizzleMistFogMistFogMistFogMistFogMistFogMistMistMistMistCloudsCloudsMistMistDrizzleMistSnowDrizzleMistSnowMistSnowMistSnowRainMistRainMistMistSnowRainMistSnowMistMistHazeMistMistMistCloudsCloudsCloudsClearClearClearCloudsCloudsCloudsCloudsCloudsCloudsCloudsCloudsSnowMistSnowMistSnowMistHazeSnowMistCloudsCloudsCloudsCloudsCloudsCloudsCloudsCloudsCloudsCloudsCloudsCloudsCloudsCloudsCloudsCloudsSnowCloudsCloudsCloudsCloudsClearCloudsCloudsCloudsClearClearClearClearCloudsHazeCloudsCloudsCloudsCloudsCloudsCloudsCloudsCloudsCloudsCloudsCloudsSnowSnowCloudsCloudsClearClearCloudsClearCloudsCloudsCloudsSnowSnowMistSnowMistMistSnowMistHazeMistMistHazeMistMistMistMistMistCloudsCloudsCloudsSnowSnowCloudsCloudsSnowSnowSnowRainSnowRainSnowClearClearClearClearClearClearClearClearClearClearClearClearClearClearClearClearCloudsCloudsCloudsCloudsClearSnowMistSnowMistSnowHazeCloudsClearClearClearCloudsCloudsCloudsCloudsClearClearClearClearCloudsCloudsCloudsCloudsCloudsCloudsCloudsCloudsCloudsCloudsCloudsCloudsClearClearHazeClearClearCloudsCloudsClearCloudsClearCloudsCloudsClearHazeMistMistCloudsCloudsClearCloudsCloudsCloudsClearCloudsCloudsCloudsClearCloudsClearCloudsCloudsCloudsCloudsCloudsCloudsCloudsClearClearCloudsClearCloudsClearCloudsClearCloudsCloudsCloudsCloudsCloudsCloudsCloudsCloudsCloudsCloudsCloudsCloudsCloudsCloudsCloudsCloudsMistHazeMistHazeMistHazeMistHazeMistMistMistHazeMistHazeMistMistHazeMistHazeDrizzleMistSnowMistSnowMistSnowMistSnowMistSnowMistSnowMistSnowMistSnowMistSnowMistSnowSnowHazeSnowClearClearClearClearClearClearClearClearClearClearClearClearClearClearClearClearClearClearClearClearClearClearClearClearCloudsCloudsSnowSnowMistSnowMistSnowHazeSnowHazeSnowMistSnowFogSnowMistFogSnowMistFogSnowMistSnowMistHazeSnowMistSnowHazeHazeSnowHazeSnowSnowHazeSnowHazeHazeSnowHazeSnowHazeSnowSnowSnowSnowSnowMistSnowSnowMistClearClearClearClearClearClearClearClearCloudsCloudsCloudsClearClearCloudsClearClearClearClearClearClearCloudsCloudsClearClearClearClearCloudsCloudsCloudsCloudsCloudsCloudsCloudsClearCloudsCloudsCloudsCloudsCloudsCloudsCloudsCloudsCloudsMistCloudsCloudsMistCloudsCloudsCloudsCloudsCloudsCloudsCloudsClearMistMistCloudsCloudsCloudsCloudsCloudsCloudsCloudsCloudsCloudsCloudsSnowSnowSnowSnowMistSnowMistFogSnowMistFogSnowFogMistSnowFogSnowFogSnowFogSnowFogSnowFogMistCloudsCloudsCloudsCloudsCloudsClearCloudsClearCloudsClearHazeCloudsCloudsSnowMistMistMistMistMistMistHazeCloudsMistMistMistFogMistFogMistFogMistFogSnowMistSnowMistMistMistSnowMistMistMistHazeMistHazeSnowCloudsCloudsClearClearCloudsCloudsCloudsCloudsCloudsClearCloudsCloudsClearClearClearClearCloudsClearCloudsCloudsCloudsClearClearClearSnowSnowSnowSnowSnowSnowHazeSnowSnowSnowSnowSnowSnowClearClearCloudsClearClearClearClearClearClearClearClearClearSnowSnowCloudsCloudsCloudsCloudsCloudsClearCloudsClearClearClearClearClearClearClearSnowClearClearClearClearCloudsCloudsClouds to numeric",
     "output_type": "error",
     "traceback": [
      "\u001b[1;31m---------------------------------------------------------------------------\u001b[0m",
      "\u001b[1;31mNotImplementedError\u001b[0m                       Traceback (most recent call last)",
      "File \u001b[1;32mc:\\Users\\lenovo\\AppData\\Local\\Programs\\Python\\Python311\\Lib\\site-packages\\pandas\\core\\groupby\\groupby.py:1490\u001b[0m, in \u001b[0;36mGroupBy._cython_agg_general.<locals>.array_func\u001b[1;34m(values)\u001b[0m\n\u001b[0;32m   1489\u001b[0m \u001b[39mtry\u001b[39;00m:\n\u001b[1;32m-> 1490\u001b[0m     result \u001b[39m=\u001b[39m \u001b[39mself\u001b[39;49m\u001b[39m.\u001b[39;49mgrouper\u001b[39m.\u001b[39;49m_cython_operation(\n\u001b[0;32m   1491\u001b[0m         \u001b[39m\"\u001b[39;49m\u001b[39maggregate\u001b[39;49m\u001b[39m\"\u001b[39;49m,\n\u001b[0;32m   1492\u001b[0m         values,\n\u001b[0;32m   1493\u001b[0m         how,\n\u001b[0;32m   1494\u001b[0m         axis\u001b[39m=\u001b[39;49mdata\u001b[39m.\u001b[39;49mndim \u001b[39m-\u001b[39;49m \u001b[39m1\u001b[39;49m,\n\u001b[0;32m   1495\u001b[0m         min_count\u001b[39m=\u001b[39;49mmin_count,\n\u001b[0;32m   1496\u001b[0m         \u001b[39m*\u001b[39;49m\u001b[39m*\u001b[39;49mkwargs,\n\u001b[0;32m   1497\u001b[0m     )\n\u001b[0;32m   1498\u001b[0m \u001b[39mexcept\u001b[39;00m \u001b[39mNotImplementedError\u001b[39;00m:\n\u001b[0;32m   1499\u001b[0m     \u001b[39m# generally if we have numeric_only=False\u001b[39;00m\n\u001b[0;32m   1500\u001b[0m     \u001b[39m# and non-applicable functions\u001b[39;00m\n\u001b[0;32m   1501\u001b[0m     \u001b[39m# try to python agg\u001b[39;00m\n\u001b[0;32m   1502\u001b[0m     \u001b[39m# TODO: shouldn't min_count matter?\u001b[39;00m\n",
      "File \u001b[1;32mc:\\Users\\lenovo\\AppData\\Local\\Programs\\Python\\Python311\\Lib\\site-packages\\pandas\\core\\groupby\\ops.py:959\u001b[0m, in \u001b[0;36mBaseGrouper._cython_operation\u001b[1;34m(self, kind, values, how, axis, min_count, **kwargs)\u001b[0m\n\u001b[0;32m    958\u001b[0m ngroups \u001b[39m=\u001b[39m \u001b[39mself\u001b[39m\u001b[39m.\u001b[39mngroups\n\u001b[1;32m--> 959\u001b[0m \u001b[39mreturn\u001b[39;00m cy_op\u001b[39m.\u001b[39;49mcython_operation(\n\u001b[0;32m    960\u001b[0m     values\u001b[39m=\u001b[39;49mvalues,\n\u001b[0;32m    961\u001b[0m     axis\u001b[39m=\u001b[39;49maxis,\n\u001b[0;32m    962\u001b[0m     min_count\u001b[39m=\u001b[39;49mmin_count,\n\u001b[0;32m    963\u001b[0m     comp_ids\u001b[39m=\u001b[39;49mids,\n\u001b[0;32m    964\u001b[0m     ngroups\u001b[39m=\u001b[39;49mngroups,\n\u001b[0;32m    965\u001b[0m     \u001b[39m*\u001b[39;49m\u001b[39m*\u001b[39;49mkwargs,\n\u001b[0;32m    966\u001b[0m )\n",
      "File \u001b[1;32mc:\\Users\\lenovo\\AppData\\Local\\Programs\\Python\\Python311\\Lib\\site-packages\\pandas\\core\\groupby\\ops.py:657\u001b[0m, in \u001b[0;36mWrappedCythonOp.cython_operation\u001b[1;34m(self, values, axis, min_count, comp_ids, ngroups, **kwargs)\u001b[0m\n\u001b[0;32m    649\u001b[0m     \u001b[39mreturn\u001b[39;00m \u001b[39mself\u001b[39m\u001b[39m.\u001b[39m_ea_wrap_cython_operation(\n\u001b[0;32m    650\u001b[0m         values,\n\u001b[0;32m    651\u001b[0m         min_count\u001b[39m=\u001b[39mmin_count,\n\u001b[1;32m   (...)\u001b[0m\n\u001b[0;32m    654\u001b[0m         \u001b[39m*\u001b[39m\u001b[39m*\u001b[39mkwargs,\n\u001b[0;32m    655\u001b[0m     )\n\u001b[1;32m--> 657\u001b[0m \u001b[39mreturn\u001b[39;00m \u001b[39mself\u001b[39;49m\u001b[39m.\u001b[39;49m_cython_op_ndim_compat(\n\u001b[0;32m    658\u001b[0m     values,\n\u001b[0;32m    659\u001b[0m     min_count\u001b[39m=\u001b[39;49mmin_count,\n\u001b[0;32m    660\u001b[0m     ngroups\u001b[39m=\u001b[39;49mngroups,\n\u001b[0;32m    661\u001b[0m     comp_ids\u001b[39m=\u001b[39;49mcomp_ids,\n\u001b[0;32m    662\u001b[0m     mask\u001b[39m=\u001b[39;49m\u001b[39mNone\u001b[39;49;00m,\n\u001b[0;32m    663\u001b[0m     \u001b[39m*\u001b[39;49m\u001b[39m*\u001b[39;49mkwargs,\n\u001b[0;32m    664\u001b[0m )\n",
      "File \u001b[1;32mc:\\Users\\lenovo\\AppData\\Local\\Programs\\Python\\Python311\\Lib\\site-packages\\pandas\\core\\groupby\\ops.py:497\u001b[0m, in \u001b[0;36mWrappedCythonOp._cython_op_ndim_compat\u001b[1;34m(self, values, min_count, ngroups, comp_ids, mask, result_mask, **kwargs)\u001b[0m\n\u001b[0;32m    495\u001b[0m     \u001b[39mreturn\u001b[39;00m res\u001b[39m.\u001b[39mT\n\u001b[1;32m--> 497\u001b[0m \u001b[39mreturn\u001b[39;00m \u001b[39mself\u001b[39;49m\u001b[39m.\u001b[39;49m_call_cython_op(\n\u001b[0;32m    498\u001b[0m     values,\n\u001b[0;32m    499\u001b[0m     min_count\u001b[39m=\u001b[39;49mmin_count,\n\u001b[0;32m    500\u001b[0m     ngroups\u001b[39m=\u001b[39;49mngroups,\n\u001b[0;32m    501\u001b[0m     comp_ids\u001b[39m=\u001b[39;49mcomp_ids,\n\u001b[0;32m    502\u001b[0m     mask\u001b[39m=\u001b[39;49mmask,\n\u001b[0;32m    503\u001b[0m     result_mask\u001b[39m=\u001b[39;49mresult_mask,\n\u001b[0;32m    504\u001b[0m     \u001b[39m*\u001b[39;49m\u001b[39m*\u001b[39;49mkwargs,\n\u001b[0;32m    505\u001b[0m )\n",
      "File \u001b[1;32mc:\\Users\\lenovo\\AppData\\Local\\Programs\\Python\\Python311\\Lib\\site-packages\\pandas\\core\\groupby\\ops.py:541\u001b[0m, in \u001b[0;36mWrappedCythonOp._call_cython_op\u001b[1;34m(self, values, min_count, ngroups, comp_ids, mask, result_mask, **kwargs)\u001b[0m\n\u001b[0;32m    540\u001b[0m out_shape \u001b[39m=\u001b[39m \u001b[39mself\u001b[39m\u001b[39m.\u001b[39m_get_output_shape(ngroups, values)\n\u001b[1;32m--> 541\u001b[0m func \u001b[39m=\u001b[39m \u001b[39mself\u001b[39;49m\u001b[39m.\u001b[39;49m_get_cython_function(\u001b[39mself\u001b[39;49m\u001b[39m.\u001b[39;49mkind, \u001b[39mself\u001b[39;49m\u001b[39m.\u001b[39;49mhow, values\u001b[39m.\u001b[39;49mdtype, is_numeric)\n\u001b[0;32m    542\u001b[0m values \u001b[39m=\u001b[39m \u001b[39mself\u001b[39m\u001b[39m.\u001b[39m_get_cython_vals(values)\n",
      "File \u001b[1;32mc:\\Users\\lenovo\\AppData\\Local\\Programs\\Python\\Python311\\Lib\\site-packages\\pandas\\core\\groupby\\ops.py:173\u001b[0m, in \u001b[0;36mWrappedCythonOp._get_cython_function\u001b[1;34m(cls, kind, how, dtype, is_numeric)\u001b[0m\n\u001b[0;32m    171\u001b[0m \u001b[39mif\u001b[39;00m \u001b[39m\"\u001b[39m\u001b[39mobject\u001b[39m\u001b[39m\"\u001b[39m \u001b[39mnot\u001b[39;00m \u001b[39min\u001b[39;00m f\u001b[39m.\u001b[39m__signatures__:\n\u001b[0;32m    172\u001b[0m     \u001b[39m# raise NotImplementedError here rather than TypeError later\u001b[39;00m\n\u001b[1;32m--> 173\u001b[0m     \u001b[39mraise\u001b[39;00m \u001b[39mNotImplementedError\u001b[39;00m(\n\u001b[0;32m    174\u001b[0m         \u001b[39mf\u001b[39m\u001b[39m\"\u001b[39m\u001b[39mfunction is not implemented for this dtype: \u001b[39m\u001b[39m\"\u001b[39m\n\u001b[0;32m    175\u001b[0m         \u001b[39mf\u001b[39m\u001b[39m\"\u001b[39m\u001b[39m[how->\u001b[39m\u001b[39m{\u001b[39;00mhow\u001b[39m}\u001b[39;00m\u001b[39m,dtype->\u001b[39m\u001b[39m{\u001b[39;00mdtype_str\u001b[39m}\u001b[39;00m\u001b[39m]\u001b[39m\u001b[39m\"\u001b[39m\n\u001b[0;32m    176\u001b[0m     )\n\u001b[0;32m    177\u001b[0m \u001b[39mreturn\u001b[39;00m f\n",
      "\u001b[1;31mNotImplementedError\u001b[0m: function is not implemented for this dtype: [how->mean,dtype->object]",
      "\nDuring handling of the above exception, another exception occurred:\n",
      "\u001b[1;31mValueError\u001b[0m                                Traceback (most recent call last)",
      "File \u001b[1;32mc:\\Users\\lenovo\\AppData\\Local\\Programs\\Python\\Python311\\Lib\\site-packages\\pandas\\core\\nanops.py:1692\u001b[0m, in \u001b[0;36m_ensure_numeric\u001b[1;34m(x)\u001b[0m\n\u001b[0;32m   1691\u001b[0m \u001b[39mtry\u001b[39;00m:\n\u001b[1;32m-> 1692\u001b[0m     x \u001b[39m=\u001b[39m \u001b[39mfloat\u001b[39m(x)\n\u001b[0;32m   1693\u001b[0m \u001b[39mexcept\u001b[39;00m (\u001b[39mTypeError\u001b[39;00m, \u001b[39mValueError\u001b[39;00m):\n\u001b[0;32m   1694\u001b[0m     \u001b[39m# e.g. \"1+1j\" or \"foo\"\u001b[39;00m\n",
      "\u001b[1;31mValueError\u001b[0m: could not convert string to float: 'ClearCloudsCloudsClearCloudsCloudsCloudsCloudsClearCloudsCloudsClearClearCloudsHazeHazeSnowCloudsCloudsSnowSnowMistSnowHazeSnowHazeSnowCloudsSnowMistFogSnowMistSnowMistSnowMistSnowMistHazeSnowMistHazeSnowMistSnowMistMistMistHazeSnowSnowSnowMistSnowMistSnowMistSnowClearClearClearClearClearClearClearClearClearClearClearClearClearClearClearCloudsCloudsCloudsMistMistMistMistHazeHazeMistHazeHazeHazeHazeHazeClearCloudsCloudsClearClearClearClearCloudsCloudsCloudsCloudsCloudsCloudsCloudsCloudsCloudsCloudsCloudsCloudsCloudsCloudsCloudsCloudsCloudsMistMistMistMistHazeCloudsCloudsCloudsCloudsCloudsCloudsCloudsClearCloudsCloudsCloudsCloudsCloudsCloudsCloudsCloudsCloudsRainRainDrizzleDrizzleRainRainDrizzleMistMistMistMistDrizzleMistFogDrizzleMistFogDrizzleMistDrizzleMistDrizzleMistFogDrizzleMistMistDrizzleDrizzleMistDrizzleRainSnowSnowHazeSnowCloudsCloudsSnowCloudsCloudsCloudsCloudsSnowSnowHazeSnowHazeHazeSnowSnowHazeSnowSnowHazeSnowHazeCloudsCloudsCloudsCloudsCloudsCloudsCloudsCloudsCloudsClearCloudsCloudsClearCloudsCloudsClearClearClearClearClearCloudsCloudsClearClearMistSnowCloudsCloudsCloudsCloudsSnowSnowSnowMistSnowCloudsCloudsClearCloudsCloudsSnowSnowSnowHazeCloudsCloudsClearClearCloudsCloudsCloudsCloudsCloudsCloudsCloudsCloudsCloudsCloudsCloudsCloudsCloudsCloudsMistMistMistCloudsCloudsCloudsCloudsHazeSnowCloudsCloudsCloudsCloudsCloudsCloudsCloudsCloudsCloudsSnowHazeCloudsCloudsHazeHazeHazeCloudsCloudsCloudsCloudsClearCloudsCloudsCloudsCloudsCloudsCloudsCloudsCloudsCloudsCloudsCloudsSnowMistSnowHazeMistSnowSnowCloudsCloudsCloudsCloudsCloudsCloudsCloudsCloudsCloudsCloudsCloudsCloudsSnowSnowSnowCloudsCloudsCloudsCloudsCloudsCloudsCloudsCloudsCloudsCloudsCloudsCloudsRainMistSnowSnowSnowMistMistMistMistCloudsCloudsCloudsCloudsCloudsCloudsCloudsCloudsCloudsCloudsCloudsCloudsCloudsCloudsCloudsCloudsCloudsCloudsCloudsCloudsCloudsCloudsCloudsCloudsCloudsCloudsCloudsCloudsCloudsCloudsClearClearClearClearCloudsCloudsCloudsCloudsCloudsClearCloudsCloudsCloudsCloudsCloudsSnowSnowSnowHazeHazeSnowHazeSnowMistRainHazeMistHazeSnowMistMistHazeCloudsSnowCloudsSnowCloudsCloudsCloudsCloudsCloudsCloudsClearClearClearClearClearClearClearCloudsCloudsHazeSnowCloudsCloudsCloudsCloudsCloudsCloudsCloudsCloudsCloudsClearCloudsCloudsCloudsCloudsClearClearClearCloudsCloudsCloudsCloudsCloudsClearCloudsClearClearCloudsClearClearClearClearCloudsCloudsClearClearCloudsCloudsCloudsCloudsCloudsCloudsCloudsCloudsCloudsCloudsCloudsCloudsMistMistMistMistMistMistMistMistMistMistMistMistCloudsMistMistMistCloudsCloudsCloudsCloudsCloudsCloudsCloudsCloudsCloudsCloudsCloudsRainRainRainRainRainRainRainCloudsCloudsCloudsCloudsCloudsSnowCloudsCloudsRainCloudsCloudsCloudsSnowFogSnowMistHazeSnowMistHazeSnowMistHazeSnowCloudsCloudsClearCloudsCloudsClearCloudsCloudsCloudsCloudsCloudsCloudsCloudsCloudsCloudsHazeSnowMistRainSnowMistHazeMistSnowRainHazeRainHazeRainSnowRainHazeHazeHazeCloudsCloudsCloudsCloudsCloudsCloudsCloudsCloudsCloudsClearCloudsCloudsCloudsCloudsCloudsCloudsCloudsCloudsCloudsCloudsCloudsCloudsCloudsCloudsCloudsCloudsCloudsCloudsCloudsCloudsCloudsRainRainRainRainRainRainRainRainCloudsSnowSnowRainSnowSnowHazeSnowCloudsCloudsCloudsCloudsCloudsCloudsClearClearClearCloudsCloudsCloudsSnowHazeSnowSnowSnowHazeSnowHazeHazeSnowHazeHazeHazeCloudsClearClearCloudsCloudsCloudsClearClearClearClearClearClearClearClearCloudsClearCloudsCloudsCloudsCloudsCloudsCloudsCloudsRainCloudsSnowRainRainSnowMistCloudsCloudsCloudsSnowSnowHazeCloudsCloudsCloudsCloudsCloudsCloudsSnowMistCloudsCloudsCloudsCloudsCloudsCloudsCloudsCloudsCloudsCloudsCloudsClearClearClearClearClearClearClearClearClearClearClearClearClearClearClearClearClearClearCloudsCloudsCloudsCloudsCloudsClearCloudsCloudsCloudsCloudsCloudsCloudsCloudsRainCloudsCloudsCloudsRainRainRainRainRainRainRainRainClearClearClearClearClearClearClearClearClearClearRainRainClearClearClearClearClearCloudsCloudsCloudsClearClearClearClearClearClearClearClearClearClearClearClearClearCloudsCloudsCloudsCloudsCloudsCloudsClearMistFogFogMistFogMistSnowMistSnowClearClearClearCloudsCloudsClearClearCloudsClearCloudsClearClearClearClearClearClearCloudsRainCloudsHazeSnowMistSnowMistRainSnowMistSnowSnowMistMistSnowSnowMistSnowMistMistSnowMistSnowMistSnowMistSnowSnowMistSnowMistSnowMistCloudsCloudsSnowHazeMistSnowHazeCloudsCloudsClearClearClearClearClearClearClearClearHazeSnowHazeMistSnowSnowSnowHazeMistSnowClearClearClearClearClearClearCloudsSnowHazeCloudsCloudsHazeHazeHazeMistHazeMistHazeMistMistHazeHazeMistMistHazeMistSnowSnowCloudsCloudsClearClearCloudsCloudsCloudsSnowHazeSnowHazeHazeClearClearClearClearClearClearClearClearClearClearClearCloudsCloudsCloudsCloudsCloudsCloudsCloudsClearClearClearClearCloudsCloudsCloudsSnowMistSnowMistHazeSnowMistHazeMistSnowMistHazeMistHazeHazeMistMistHazeMistHazeSnowHazeMistSnowHazeMistSnowHazeMistSnowHazeMistSnowHazeSnowMistSnowHazeSnowSnowHazeSnowCloudsCloudsCloudsSnowHazeSnowCloudsCloudsHazeHazeMistSnowMistSnowSnowMistSnowMistMistSnowHazeHazeMistMistFogSnowMistFogMistFogMistHazeMistRainMistRainSnowSnowMistHazeSnowSnowSnowHazeCloudsSnowCloudsSnowMistCloudsCloudsCloudsCloudsCloudsCloudsCloudsCloudsCloudsCloudsCloudsCloudsCloudsClearCloudsCloudsCloudsCloudsCloudsClearCloudsCloudsCloudsCloudsClearClearCloudsRainDrizzleCloudsMistFogMistFogClearCloudsClearCloudsClearCloudsClearCloudsClearClearCloudsCloudsCloudsCloudsCloudsClearCloudsCloudsCloudsCloudsSnowSnowSnowSnowMistSnowHazeMistHazeSnowMistRainMistHazeSnowDrizzleMistSnowMistSnowCloudsCloudsSnowSnowSnowSnowCloudsHazeClearClearClearClearClearHazeSnowHazeHazeClearClearClearClearClearClearClearCloudsMistMistMistMistClearClearCloudsHazeHazeCloudsCloudsCloudsHazeClearClearClearClearClearClearClearCloudsCloudsCloudsCloudsClearCloudsClearClearHazeClearClearClearClearClearClearClearClearSnowSnowClearClearCloudsClearCloudsSnowSnowSnowSnowCloudsCloudsCloudsSnowSnowSnowSnowMistHazeSnowMistSnowMistFogSnowMistSnowMistHazeHazeSnowMistSnowSnowMistSnowMistFogSnowMistSnowFogMistSnowMistSnowMistSnowFogHazeHazeSnowMistHazeHazeClearSnowMistSnowMistSnowMistSnowMistSnowHazeSnowSnowCloudsClearClearClearClearHazeCloudsHazeClearClearSnowSnowHazeSnowSnowHazeHazeClearCloudsCloudsCloudsClearCloudsCloudsCloudsCloudsCloudsSnowSnowCloudsCloudsClearClearSnowClearClearClearClearClearClearClearClearClearMistMistSnowClearClearClearClearCloudsClearClearCloudsClearCloudsMistHazeMistMistHazeMistHazeHazeMistHazeMistHazeMistHazeMistHazeHazeHazeCloudsMistDrizzleMistMistHazeFogHazeMistFogHazeMistMistHazeMistHazeMistHazeMistMistMistMistMistHazeHazeMistMistHazeMistHazeClearClearClearClearClearClearClearClearMistFogMistHazeMistHazeFogMistHazeHazeMistMistMistMistHazeMistMistCloudsCloudsMistDrizzleFogRainDrizzleMistSnowDrizzleMistRainSnowDrizzleMistMistMistMistMistFogMistFogMistMistFogMistFogMistRainFogDrizzleMistDrizzleRainDrizzleMistRainDrizzleMistFogRainDrizzleMistMistRainDrizzleMistRainMistFogMistFogRainMistFogDrizzleMistFogDrizzleMistFogMistFogMistFogMistFogMistFogMistMistMistMistCloudsCloudsMistMistDrizzleMistSnowDrizzleMistSnowMistSnowMistSnowRainMistRainMistMistSnowRainMistSnowMistMistHazeMistMistMistCloudsCloudsCloudsClearClearClearCloudsCloudsCloudsCloudsCloudsCloudsCloudsCloudsSnowMistSnowMistSnowMistHazeSnowMistCloudsCloudsCloudsCloudsCloudsCloudsCloudsCloudsCloudsCloudsCloudsCloudsCloudsCloudsCloudsCloudsSnowCloudsCloudsCloudsCloudsClearCloudsCloudsCloudsClearClearClearClearCloudsHazeCloudsCloudsCloudsCloudsCloudsCloudsCloudsCloudsCloudsCloudsCloudsSnowSnowCloudsCloudsClearClearCloudsClearCloudsCloudsCloudsSnowSnowMistSnowMistMistSnowMistHazeMistMistHazeMistMistMistMistMistCloudsCloudsCloudsSnowSnowCloudsCloudsSnowSnowSnowRainSnowRainSnowClearClearClearClearClearClearClearClearClearClearClearClearClearClearClearClearCloudsCloudsCloudsCloudsClearSnowMistSnowMistSnowHazeCloudsClearClearClearCloudsCloudsCloudsCloudsClearClearClearClearCloudsCloudsCloudsCloudsCloudsCloudsCloudsCloudsCloudsCloudsCloudsCloudsClearClearHazeClearClearCloudsCloudsClearCloudsClearCloudsCloudsClearHazeMistMistCloudsCloudsClearCloudsCloudsCloudsClearCloudsCloudsCloudsClearCloudsClearCloudsCloudsCloudsCloudsCloudsCloudsCloudsClearClearCloudsClearCloudsClearCloudsClearCloudsCloudsCloudsCloudsCloudsCloudsCloudsCloudsCloudsCloudsCloudsCloudsCloudsCloudsCloudsCloudsMistHazeMistHazeMistHazeMistHazeMistMistMistHazeMistHazeMistMistHazeMistHazeDrizzleMistSnowMistSnowMistSnowMistSnowMistSnowMistSnowMistSnowMistSnowMistSnowMistSnowSnowHazeSnowClearClearClearClearClearClearClearClearClearClearClearClearClearClearClearClearClearClearClearClearClearClearClearClearCloudsCloudsSnowSnowMistSnowMistSnowHazeSnowHazeSnowMistSnowFogSnowMistFogSnowMistFogSnowMistSnowMistHazeSnowMistSnowHazeHazeSnowHazeSnowSnowHazeSnowHazeHazeSnowHazeSnowHazeSnowSnowSnowSnowSnowMistSnowSnowMistClearClearClearClearClearClearClearClearCloudsCloudsCloudsClearClearCloudsClearClearClearClearClearClearCloudsCloudsClearClearClearClearCloudsCloudsCloudsCloudsCloudsCloudsCloudsClearCloudsCloudsCloudsCloudsCloudsCloudsCloudsCloudsCloudsMistCloudsCloudsMistCloudsCloudsCloudsCloudsCloudsCloudsCloudsClearMistMistCloudsCloudsCloudsCloudsCloudsCloudsCloudsCloudsCloudsCloudsSnowSnowSnowSnowMistSnowMistFogSnowMistFogSnowFogMistSnowFogSnowFogSnowFogSnowFogSnowFogMistCloudsCloudsCloudsCloudsCloudsClearCloudsClearCloudsClearHazeCloudsCloudsSnowMistMistMistMistMistMistHazeCloudsMistMistMistFogMistFogMistFogMistFogSnowMistSnowMistMistMistSnowMistMistMistHazeMistHazeSnowCloudsCloudsClearClearCloudsCloudsCloudsCloudsCloudsClearCloudsCloudsClearClearClearClearCloudsClearCloudsCloudsCloudsClearClearClearSnowSnowSnowSnowSnowSnowHazeSnowSnowSnowSnowSnowSnowClearClearCloudsClearClearClearClearClearClearClearClearClearSnowSnowCloudsCloudsCloudsCloudsCloudsClearCloudsClearClearClearClearClearClearClearSnowClearClearClearClearCloudsCloudsClouds'",
      "\nDuring handling of the above exception, another exception occurred:\n",
      "\u001b[1;31mValueError\u001b[0m                                Traceback (most recent call last)",
      "File \u001b[1;32mc:\\Users\\lenovo\\AppData\\Local\\Programs\\Python\\Python311\\Lib\\site-packages\\pandas\\core\\nanops.py:1696\u001b[0m, in \u001b[0;36m_ensure_numeric\u001b[1;34m(x)\u001b[0m\n\u001b[0;32m   1695\u001b[0m \u001b[39mtry\u001b[39;00m:\n\u001b[1;32m-> 1696\u001b[0m     x \u001b[39m=\u001b[39m \u001b[39mcomplex\u001b[39;49m(x)\n\u001b[0;32m   1697\u001b[0m \u001b[39mexcept\u001b[39;00m \u001b[39mValueError\u001b[39;00m \u001b[39mas\u001b[39;00m err:\n\u001b[0;32m   1698\u001b[0m     \u001b[39m# e.g. \"foo\"\u001b[39;00m\n",
      "\u001b[1;31mValueError\u001b[0m: complex() arg is a malformed string",
      "\nThe above exception was the direct cause of the following exception:\n",
      "\u001b[1;31mTypeError\u001b[0m                                 Traceback (most recent call last)",
      "Cell \u001b[1;32mIn[24], line 1\u001b[0m\n\u001b[1;32m----> 1\u001b[0m day\u001b[39m.\u001b[39;49mgroupby(\u001b[39m'\u001b[39;49m\u001b[39mmonth\u001b[39;49m\u001b[39m'\u001b[39;49m)\u001b[39m.\u001b[39;49mmean()\n",
      "File \u001b[1;32mc:\\Users\\lenovo\\AppData\\Local\\Programs\\Python\\Python311\\Lib\\site-packages\\pandas\\core\\groupby\\groupby.py:1855\u001b[0m, in \u001b[0;36mGroupBy.mean\u001b[1;34m(self, numeric_only, engine, engine_kwargs)\u001b[0m\n\u001b[0;32m   1853\u001b[0m     \u001b[39mreturn\u001b[39;00m \u001b[39mself\u001b[39m\u001b[39m.\u001b[39m_numba_agg_general(sliding_mean, engine_kwargs)\n\u001b[0;32m   1854\u001b[0m \u001b[39melse\u001b[39;00m:\n\u001b[1;32m-> 1855\u001b[0m     result \u001b[39m=\u001b[39m \u001b[39mself\u001b[39;49m\u001b[39m.\u001b[39;49m_cython_agg_general(\n\u001b[0;32m   1856\u001b[0m         \u001b[39m\"\u001b[39;49m\u001b[39mmean\u001b[39;49m\u001b[39m\"\u001b[39;49m,\n\u001b[0;32m   1857\u001b[0m         alt\u001b[39m=\u001b[39;49m\u001b[39mlambda\u001b[39;49;00m x: Series(x)\u001b[39m.\u001b[39;49mmean(numeric_only\u001b[39m=\u001b[39;49mnumeric_only),\n\u001b[0;32m   1858\u001b[0m         numeric_only\u001b[39m=\u001b[39;49mnumeric_only,\n\u001b[0;32m   1859\u001b[0m     )\n\u001b[0;32m   1860\u001b[0m     \u001b[39mreturn\u001b[39;00m result\u001b[39m.\u001b[39m__finalize__(\u001b[39mself\u001b[39m\u001b[39m.\u001b[39mobj, method\u001b[39m=\u001b[39m\u001b[39m\"\u001b[39m\u001b[39mgroupby\u001b[39m\u001b[39m\"\u001b[39m)\n",
      "File \u001b[1;32mc:\\Users\\lenovo\\AppData\\Local\\Programs\\Python\\Python311\\Lib\\site-packages\\pandas\\core\\groupby\\groupby.py:1507\u001b[0m, in \u001b[0;36mGroupBy._cython_agg_general\u001b[1;34m(self, how, alt, numeric_only, min_count, **kwargs)\u001b[0m\n\u001b[0;32m   1503\u001b[0m         result \u001b[39m=\u001b[39m \u001b[39mself\u001b[39m\u001b[39m.\u001b[39m_agg_py_fallback(values, ndim\u001b[39m=\u001b[39mdata\u001b[39m.\u001b[39mndim, alt\u001b[39m=\u001b[39malt)\n\u001b[0;32m   1505\u001b[0m     \u001b[39mreturn\u001b[39;00m result\n\u001b[1;32m-> 1507\u001b[0m new_mgr \u001b[39m=\u001b[39m data\u001b[39m.\u001b[39;49mgrouped_reduce(array_func)\n\u001b[0;32m   1508\u001b[0m res \u001b[39m=\u001b[39m \u001b[39mself\u001b[39m\u001b[39m.\u001b[39m_wrap_agged_manager(new_mgr)\n\u001b[0;32m   1509\u001b[0m out \u001b[39m=\u001b[39m \u001b[39mself\u001b[39m\u001b[39m.\u001b[39m_wrap_aggregated_output(res)\n",
      "File \u001b[1;32mc:\\Users\\lenovo\\AppData\\Local\\Programs\\Python\\Python311\\Lib\\site-packages\\pandas\\core\\internals\\managers.py:1503\u001b[0m, in \u001b[0;36mBlockManager.grouped_reduce\u001b[1;34m(self, func)\u001b[0m\n\u001b[0;32m   1499\u001b[0m \u001b[39mif\u001b[39;00m blk\u001b[39m.\u001b[39mis_object:\n\u001b[0;32m   1500\u001b[0m     \u001b[39m# split on object-dtype blocks bc some columns may raise\u001b[39;00m\n\u001b[0;32m   1501\u001b[0m     \u001b[39m#  while others do not.\u001b[39;00m\n\u001b[0;32m   1502\u001b[0m     \u001b[39mfor\u001b[39;00m sb \u001b[39min\u001b[39;00m blk\u001b[39m.\u001b[39m_split():\n\u001b[1;32m-> 1503\u001b[0m         applied \u001b[39m=\u001b[39m sb\u001b[39m.\u001b[39;49mapply(func)\n\u001b[0;32m   1504\u001b[0m         result_blocks \u001b[39m=\u001b[39m extend_blocks(applied, result_blocks)\n\u001b[0;32m   1505\u001b[0m \u001b[39melse\u001b[39;00m:\n",
      "File \u001b[1;32mc:\\Users\\lenovo\\AppData\\Local\\Programs\\Python\\Python311\\Lib\\site-packages\\pandas\\core\\internals\\blocks.py:329\u001b[0m, in \u001b[0;36mBlock.apply\u001b[1;34m(self, func, **kwargs)\u001b[0m\n\u001b[0;32m    323\u001b[0m \u001b[39m@final\u001b[39m\n\u001b[0;32m    324\u001b[0m \u001b[39mdef\u001b[39;00m \u001b[39mapply\u001b[39m(\u001b[39mself\u001b[39m, func, \u001b[39m*\u001b[39m\u001b[39m*\u001b[39mkwargs) \u001b[39m-\u001b[39m\u001b[39m>\u001b[39m \u001b[39mlist\u001b[39m[Block]:\n\u001b[0;32m    325\u001b[0m \u001b[39m    \u001b[39m\u001b[39m\"\"\"\u001b[39;00m\n\u001b[0;32m    326\u001b[0m \u001b[39m    apply the function to my values; return a block if we are not\u001b[39;00m\n\u001b[0;32m    327\u001b[0m \u001b[39m    one\u001b[39;00m\n\u001b[0;32m    328\u001b[0m \u001b[39m    \"\"\"\u001b[39;00m\n\u001b[1;32m--> 329\u001b[0m     result \u001b[39m=\u001b[39m func(\u001b[39mself\u001b[39;49m\u001b[39m.\u001b[39;49mvalues, \u001b[39m*\u001b[39;49m\u001b[39m*\u001b[39;49mkwargs)\n\u001b[0;32m    331\u001b[0m     \u001b[39mreturn\u001b[39;00m \u001b[39mself\u001b[39m\u001b[39m.\u001b[39m_split_op_result(result)\n",
      "File \u001b[1;32mc:\\Users\\lenovo\\AppData\\Local\\Programs\\Python\\Python311\\Lib\\site-packages\\pandas\\core\\groupby\\groupby.py:1503\u001b[0m, in \u001b[0;36mGroupBy._cython_agg_general.<locals>.array_func\u001b[1;34m(values)\u001b[0m\n\u001b[0;32m   1490\u001b[0m     result \u001b[39m=\u001b[39m \u001b[39mself\u001b[39m\u001b[39m.\u001b[39mgrouper\u001b[39m.\u001b[39m_cython_operation(\n\u001b[0;32m   1491\u001b[0m         \u001b[39m\"\u001b[39m\u001b[39maggregate\u001b[39m\u001b[39m\"\u001b[39m,\n\u001b[0;32m   1492\u001b[0m         values,\n\u001b[1;32m   (...)\u001b[0m\n\u001b[0;32m   1496\u001b[0m         \u001b[39m*\u001b[39m\u001b[39m*\u001b[39mkwargs,\n\u001b[0;32m   1497\u001b[0m     )\n\u001b[0;32m   1498\u001b[0m \u001b[39mexcept\u001b[39;00m \u001b[39mNotImplementedError\u001b[39;00m:\n\u001b[0;32m   1499\u001b[0m     \u001b[39m# generally if we have numeric_only=False\u001b[39;00m\n\u001b[0;32m   1500\u001b[0m     \u001b[39m# and non-applicable functions\u001b[39;00m\n\u001b[0;32m   1501\u001b[0m     \u001b[39m# try to python agg\u001b[39;00m\n\u001b[0;32m   1502\u001b[0m     \u001b[39m# TODO: shouldn't min_count matter?\u001b[39;00m\n\u001b[1;32m-> 1503\u001b[0m     result \u001b[39m=\u001b[39m \u001b[39mself\u001b[39;49m\u001b[39m.\u001b[39;49m_agg_py_fallback(values, ndim\u001b[39m=\u001b[39;49mdata\u001b[39m.\u001b[39;49mndim, alt\u001b[39m=\u001b[39;49malt)\n\u001b[0;32m   1505\u001b[0m \u001b[39mreturn\u001b[39;00m result\n",
      "File \u001b[1;32mc:\\Users\\lenovo\\AppData\\Local\\Programs\\Python\\Python311\\Lib\\site-packages\\pandas\\core\\groupby\\groupby.py:1457\u001b[0m, in \u001b[0;36mGroupBy._agg_py_fallback\u001b[1;34m(self, values, ndim, alt)\u001b[0m\n\u001b[0;32m   1452\u001b[0m     ser \u001b[39m=\u001b[39m df\u001b[39m.\u001b[39miloc[:, \u001b[39m0\u001b[39m]\n\u001b[0;32m   1454\u001b[0m \u001b[39m# We do not get here with UDFs, so we know that our dtype\u001b[39;00m\n\u001b[0;32m   1455\u001b[0m \u001b[39m#  should always be preserved by the implemented aggregations\u001b[39;00m\n\u001b[0;32m   1456\u001b[0m \u001b[39m# TODO: Is this exactly right; see WrappedCythonOp get_result_dtype?\u001b[39;00m\n\u001b[1;32m-> 1457\u001b[0m res_values \u001b[39m=\u001b[39m \u001b[39mself\u001b[39;49m\u001b[39m.\u001b[39;49mgrouper\u001b[39m.\u001b[39;49magg_series(ser, alt, preserve_dtype\u001b[39m=\u001b[39;49m\u001b[39mTrue\u001b[39;49;00m)\n\u001b[0;32m   1459\u001b[0m \u001b[39mif\u001b[39;00m \u001b[39misinstance\u001b[39m(values, Categorical):\n\u001b[0;32m   1460\u001b[0m     \u001b[39m# Because we only get here with known dtype-preserving\u001b[39;00m\n\u001b[0;32m   1461\u001b[0m     \u001b[39m#  reductions, we cast back to Categorical.\u001b[39;00m\n\u001b[0;32m   1462\u001b[0m     \u001b[39m# TODO: if we ever get \"rank\" working, exclude it here.\u001b[39;00m\n\u001b[0;32m   1463\u001b[0m     res_values \u001b[39m=\u001b[39m \u001b[39mtype\u001b[39m(values)\u001b[39m.\u001b[39m_from_sequence(res_values, dtype\u001b[39m=\u001b[39mvalues\u001b[39m.\u001b[39mdtype)\n",
      "File \u001b[1;32mc:\\Users\\lenovo\\AppData\\Local\\Programs\\Python\\Python311\\Lib\\site-packages\\pandas\\core\\groupby\\ops.py:994\u001b[0m, in \u001b[0;36mBaseGrouper.agg_series\u001b[1;34m(self, obj, func, preserve_dtype)\u001b[0m\n\u001b[0;32m    987\u001b[0m \u001b[39mif\u001b[39;00m \u001b[39mlen\u001b[39m(obj) \u001b[39m>\u001b[39m \u001b[39m0\u001b[39m \u001b[39mand\u001b[39;00m \u001b[39mnot\u001b[39;00m \u001b[39misinstance\u001b[39m(obj\u001b[39m.\u001b[39m_values, np\u001b[39m.\u001b[39mndarray):\n\u001b[0;32m    988\u001b[0m     \u001b[39m# we can preserve a little bit more aggressively with EA dtype\u001b[39;00m\n\u001b[0;32m    989\u001b[0m     \u001b[39m#  because maybe_cast_pointwise_result will do a try/except\u001b[39;00m\n\u001b[0;32m    990\u001b[0m     \u001b[39m#  with _from_sequence.  NB we are assuming here that _from_sequence\u001b[39;00m\n\u001b[0;32m    991\u001b[0m     \u001b[39m#  is sufficiently strict that it casts appropriately.\u001b[39;00m\n\u001b[0;32m    992\u001b[0m     preserve_dtype \u001b[39m=\u001b[39m \u001b[39mTrue\u001b[39;00m\n\u001b[1;32m--> 994\u001b[0m result \u001b[39m=\u001b[39m \u001b[39mself\u001b[39;49m\u001b[39m.\u001b[39;49m_aggregate_series_pure_python(obj, func)\n\u001b[0;32m    996\u001b[0m npvalues \u001b[39m=\u001b[39m lib\u001b[39m.\u001b[39mmaybe_convert_objects(result, try_float\u001b[39m=\u001b[39m\u001b[39mFalse\u001b[39;00m)\n\u001b[0;32m    997\u001b[0m \u001b[39mif\u001b[39;00m preserve_dtype:\n",
      "File \u001b[1;32mc:\\Users\\lenovo\\AppData\\Local\\Programs\\Python\\Python311\\Lib\\site-packages\\pandas\\core\\groupby\\ops.py:1015\u001b[0m, in \u001b[0;36mBaseGrouper._aggregate_series_pure_python\u001b[1;34m(self, obj, func)\u001b[0m\n\u001b[0;32m   1012\u001b[0m splitter \u001b[39m=\u001b[39m \u001b[39mself\u001b[39m\u001b[39m.\u001b[39m_get_splitter(obj, axis\u001b[39m=\u001b[39m\u001b[39m0\u001b[39m)\n\u001b[0;32m   1014\u001b[0m \u001b[39mfor\u001b[39;00m i, group \u001b[39min\u001b[39;00m \u001b[39menumerate\u001b[39m(splitter):\n\u001b[1;32m-> 1015\u001b[0m     res \u001b[39m=\u001b[39m func(group)\n\u001b[0;32m   1016\u001b[0m     res \u001b[39m=\u001b[39m libreduction\u001b[39m.\u001b[39mextract_result(res)\n\u001b[0;32m   1018\u001b[0m     \u001b[39mif\u001b[39;00m \u001b[39mnot\u001b[39;00m initialized:\n\u001b[0;32m   1019\u001b[0m         \u001b[39m# We only do this validation on the first iteration\u001b[39;00m\n",
      "File \u001b[1;32mc:\\Users\\lenovo\\AppData\\Local\\Programs\\Python\\Python311\\Lib\\site-packages\\pandas\\core\\groupby\\groupby.py:1857\u001b[0m, in \u001b[0;36mGroupBy.mean.<locals>.<lambda>\u001b[1;34m(x)\u001b[0m\n\u001b[0;32m   1853\u001b[0m     \u001b[39mreturn\u001b[39;00m \u001b[39mself\u001b[39m\u001b[39m.\u001b[39m_numba_agg_general(sliding_mean, engine_kwargs)\n\u001b[0;32m   1854\u001b[0m \u001b[39melse\u001b[39;00m:\n\u001b[0;32m   1855\u001b[0m     result \u001b[39m=\u001b[39m \u001b[39mself\u001b[39m\u001b[39m.\u001b[39m_cython_agg_general(\n\u001b[0;32m   1856\u001b[0m         \u001b[39m\"\u001b[39m\u001b[39mmean\u001b[39m\u001b[39m\"\u001b[39m,\n\u001b[1;32m-> 1857\u001b[0m         alt\u001b[39m=\u001b[39m\u001b[39mlambda\u001b[39;00m x: Series(x)\u001b[39m.\u001b[39;49mmean(numeric_only\u001b[39m=\u001b[39;49mnumeric_only),\n\u001b[0;32m   1858\u001b[0m         numeric_only\u001b[39m=\u001b[39mnumeric_only,\n\u001b[0;32m   1859\u001b[0m     )\n\u001b[0;32m   1860\u001b[0m     \u001b[39mreturn\u001b[39;00m result\u001b[39m.\u001b[39m__finalize__(\u001b[39mself\u001b[39m\u001b[39m.\u001b[39mobj, method\u001b[39m=\u001b[39m\u001b[39m\"\u001b[39m\u001b[39mgroupby\u001b[39m\u001b[39m\"\u001b[39m)\n",
      "File \u001b[1;32mc:\\Users\\lenovo\\AppData\\Local\\Programs\\Python\\Python311\\Lib\\site-packages\\pandas\\core\\generic.py:11556\u001b[0m, in \u001b[0;36mNDFrame._add_numeric_operations.<locals>.mean\u001b[1;34m(self, axis, skipna, numeric_only, **kwargs)\u001b[0m\n\u001b[0;32m  11539\u001b[0m \u001b[39m@doc\u001b[39m(\n\u001b[0;32m  11540\u001b[0m     _num_doc,\n\u001b[0;32m  11541\u001b[0m     desc\u001b[39m=\u001b[39m\u001b[39m\"\u001b[39m\u001b[39mReturn the mean of the values over the requested axis.\u001b[39m\u001b[39m\"\u001b[39m,\n\u001b[1;32m   (...)\u001b[0m\n\u001b[0;32m  11554\u001b[0m     \u001b[39m*\u001b[39m\u001b[39m*\u001b[39mkwargs,\n\u001b[0;32m  11555\u001b[0m ):\n\u001b[1;32m> 11556\u001b[0m     \u001b[39mreturn\u001b[39;00m NDFrame\u001b[39m.\u001b[39;49mmean(\u001b[39mself\u001b[39;49m, axis, skipna, numeric_only, \u001b[39m*\u001b[39;49m\u001b[39m*\u001b[39;49mkwargs)\n",
      "File \u001b[1;32mc:\\Users\\lenovo\\AppData\\Local\\Programs\\Python\\Python311\\Lib\\site-packages\\pandas\\core\\generic.py:11201\u001b[0m, in \u001b[0;36mNDFrame.mean\u001b[1;34m(self, axis, skipna, numeric_only, **kwargs)\u001b[0m\n\u001b[0;32m  11194\u001b[0m \u001b[39mdef\u001b[39;00m \u001b[39mmean\u001b[39m(\n\u001b[0;32m  11195\u001b[0m     \u001b[39mself\u001b[39m,\n\u001b[0;32m  11196\u001b[0m     axis: Axis \u001b[39m|\u001b[39m \u001b[39mNone\u001b[39;00m \u001b[39m=\u001b[39m \u001b[39m0\u001b[39m,\n\u001b[1;32m   (...)\u001b[0m\n\u001b[0;32m  11199\u001b[0m     \u001b[39m*\u001b[39m\u001b[39m*\u001b[39mkwargs,\n\u001b[0;32m  11200\u001b[0m ) \u001b[39m-\u001b[39m\u001b[39m>\u001b[39m Series \u001b[39m|\u001b[39m \u001b[39mfloat\u001b[39m:\n\u001b[1;32m> 11201\u001b[0m     \u001b[39mreturn\u001b[39;00m \u001b[39mself\u001b[39;49m\u001b[39m.\u001b[39;49m_stat_function(\n\u001b[0;32m  11202\u001b[0m         \u001b[39m\"\u001b[39;49m\u001b[39mmean\u001b[39;49m\u001b[39m\"\u001b[39;49m, nanops\u001b[39m.\u001b[39;49mnanmean, axis, skipna, numeric_only, \u001b[39m*\u001b[39;49m\u001b[39m*\u001b[39;49mkwargs\n\u001b[0;32m  11203\u001b[0m     )\n",
      "File \u001b[1;32mc:\\Users\\lenovo\\AppData\\Local\\Programs\\Python\\Python311\\Lib\\site-packages\\pandas\\core\\generic.py:11158\u001b[0m, in \u001b[0;36mNDFrame._stat_function\u001b[1;34m(self, name, func, axis, skipna, numeric_only, **kwargs)\u001b[0m\n\u001b[0;32m  11154\u001b[0m     nv\u001b[39m.\u001b[39mvalidate_stat_func((), kwargs, fname\u001b[39m=\u001b[39mname)\n\u001b[0;32m  11156\u001b[0m validate_bool_kwarg(skipna, \u001b[39m\"\u001b[39m\u001b[39mskipna\u001b[39m\u001b[39m\"\u001b[39m, none_allowed\u001b[39m=\u001b[39m\u001b[39mFalse\u001b[39;00m)\n\u001b[1;32m> 11158\u001b[0m \u001b[39mreturn\u001b[39;00m \u001b[39mself\u001b[39;49m\u001b[39m.\u001b[39;49m_reduce(\n\u001b[0;32m  11159\u001b[0m     func, name\u001b[39m=\u001b[39;49mname, axis\u001b[39m=\u001b[39;49maxis, skipna\u001b[39m=\u001b[39;49mskipna, numeric_only\u001b[39m=\u001b[39;49mnumeric_only\n\u001b[0;32m  11160\u001b[0m )\n",
      "File \u001b[1;32mc:\\Users\\lenovo\\AppData\\Local\\Programs\\Python\\Python311\\Lib\\site-packages\\pandas\\core\\series.py:4670\u001b[0m, in \u001b[0;36mSeries._reduce\u001b[1;34m(self, op, name, axis, skipna, numeric_only, filter_type, **kwds)\u001b[0m\n\u001b[0;32m   4665\u001b[0m     \u001b[39mraise\u001b[39;00m \u001b[39mTypeError\u001b[39;00m(\n\u001b[0;32m   4666\u001b[0m         \u001b[39mf\u001b[39m\u001b[39m\"\u001b[39m\u001b[39mSeries.\u001b[39m\u001b[39m{\u001b[39;00mname\u001b[39m}\u001b[39;00m\u001b[39m does not allow \u001b[39m\u001b[39m{\u001b[39;00mkwd_name\u001b[39m}\u001b[39;00m\u001b[39m=\u001b[39m\u001b[39m{\u001b[39;00mnumeric_only\u001b[39m}\u001b[39;00m\u001b[39m \u001b[39m\u001b[39m\"\u001b[39m\n\u001b[0;32m   4667\u001b[0m         \u001b[39m\"\u001b[39m\u001b[39mwith non-numeric dtypes.\u001b[39m\u001b[39m\"\u001b[39m\n\u001b[0;32m   4668\u001b[0m     )\n\u001b[0;32m   4669\u001b[0m \u001b[39mwith\u001b[39;00m np\u001b[39m.\u001b[39merrstate(\u001b[39mall\u001b[39m\u001b[39m=\u001b[39m\u001b[39m\"\u001b[39m\u001b[39mignore\u001b[39m\u001b[39m\"\u001b[39m):\n\u001b[1;32m-> 4670\u001b[0m     \u001b[39mreturn\u001b[39;00m op(delegate, skipna\u001b[39m=\u001b[39;49mskipna, \u001b[39m*\u001b[39;49m\u001b[39m*\u001b[39;49mkwds)\n",
      "File \u001b[1;32mc:\\Users\\lenovo\\AppData\\Local\\Programs\\Python\\Python311\\Lib\\site-packages\\pandas\\core\\nanops.py:96\u001b[0m, in \u001b[0;36mdisallow.__call__.<locals>._f\u001b[1;34m(*args, **kwargs)\u001b[0m\n\u001b[0;32m     94\u001b[0m \u001b[39mtry\u001b[39;00m:\n\u001b[0;32m     95\u001b[0m     \u001b[39mwith\u001b[39;00m np\u001b[39m.\u001b[39merrstate(invalid\u001b[39m=\u001b[39m\u001b[39m\"\u001b[39m\u001b[39mignore\u001b[39m\u001b[39m\"\u001b[39m):\n\u001b[1;32m---> 96\u001b[0m         \u001b[39mreturn\u001b[39;00m f(\u001b[39m*\u001b[39;49margs, \u001b[39m*\u001b[39;49m\u001b[39m*\u001b[39;49mkwargs)\n\u001b[0;32m     97\u001b[0m \u001b[39mexcept\u001b[39;00m \u001b[39mValueError\u001b[39;00m \u001b[39mas\u001b[39;00m e:\n\u001b[0;32m     98\u001b[0m     \u001b[39m# we want to transform an object array\u001b[39;00m\n\u001b[0;32m     99\u001b[0m     \u001b[39m# ValueError message to the more typical TypeError\u001b[39;00m\n\u001b[0;32m    100\u001b[0m     \u001b[39m# e.g. this is normally a disallowed function on\u001b[39;00m\n\u001b[0;32m    101\u001b[0m     \u001b[39m# object arrays that contain strings\u001b[39;00m\n\u001b[0;32m    102\u001b[0m     \u001b[39mif\u001b[39;00m is_object_dtype(args[\u001b[39m0\u001b[39m]):\n",
      "File \u001b[1;32mc:\\Users\\lenovo\\AppData\\Local\\Programs\\Python\\Python311\\Lib\\site-packages\\pandas\\core\\nanops.py:158\u001b[0m, in \u001b[0;36mbottleneck_switch.__call__.<locals>.f\u001b[1;34m(values, axis, skipna, **kwds)\u001b[0m\n\u001b[0;32m    156\u001b[0m         result \u001b[39m=\u001b[39m alt(values, axis\u001b[39m=\u001b[39maxis, skipna\u001b[39m=\u001b[39mskipna, \u001b[39m*\u001b[39m\u001b[39m*\u001b[39mkwds)\n\u001b[0;32m    157\u001b[0m \u001b[39melse\u001b[39;00m:\n\u001b[1;32m--> 158\u001b[0m     result \u001b[39m=\u001b[39m alt(values, axis\u001b[39m=\u001b[39;49maxis, skipna\u001b[39m=\u001b[39;49mskipna, \u001b[39m*\u001b[39;49m\u001b[39m*\u001b[39;49mkwds)\n\u001b[0;32m    160\u001b[0m \u001b[39mreturn\u001b[39;00m result\n",
      "File \u001b[1;32mc:\\Users\\lenovo\\AppData\\Local\\Programs\\Python\\Python311\\Lib\\site-packages\\pandas\\core\\nanops.py:421\u001b[0m, in \u001b[0;36m_datetimelike_compat.<locals>.new_func\u001b[1;34m(values, axis, skipna, mask, **kwargs)\u001b[0m\n\u001b[0;32m    418\u001b[0m \u001b[39mif\u001b[39;00m datetimelike \u001b[39mand\u001b[39;00m mask \u001b[39mis\u001b[39;00m \u001b[39mNone\u001b[39;00m:\n\u001b[0;32m    419\u001b[0m     mask \u001b[39m=\u001b[39m isna(values)\n\u001b[1;32m--> 421\u001b[0m result \u001b[39m=\u001b[39m func(values, axis\u001b[39m=\u001b[39;49maxis, skipna\u001b[39m=\u001b[39;49mskipna, mask\u001b[39m=\u001b[39;49mmask, \u001b[39m*\u001b[39;49m\u001b[39m*\u001b[39;49mkwargs)\n\u001b[0;32m    423\u001b[0m \u001b[39mif\u001b[39;00m datetimelike:\n\u001b[0;32m    424\u001b[0m     result \u001b[39m=\u001b[39m _wrap_results(result, orig_values\u001b[39m.\u001b[39mdtype, fill_value\u001b[39m=\u001b[39miNaT)\n",
      "File \u001b[1;32mc:\\Users\\lenovo\\AppData\\Local\\Programs\\Python\\Python311\\Lib\\site-packages\\pandas\\core\\nanops.py:727\u001b[0m, in \u001b[0;36mnanmean\u001b[1;34m(values, axis, skipna, mask)\u001b[0m\n\u001b[0;32m    724\u001b[0m     dtype_count \u001b[39m=\u001b[39m dtype\n\u001b[0;32m    726\u001b[0m count \u001b[39m=\u001b[39m _get_counts(values\u001b[39m.\u001b[39mshape, mask, axis, dtype\u001b[39m=\u001b[39mdtype_count)\n\u001b[1;32m--> 727\u001b[0m the_sum \u001b[39m=\u001b[39m _ensure_numeric(values\u001b[39m.\u001b[39;49msum(axis, dtype\u001b[39m=\u001b[39;49mdtype_sum))\n\u001b[0;32m    729\u001b[0m \u001b[39mif\u001b[39;00m axis \u001b[39mis\u001b[39;00m \u001b[39mnot\u001b[39;00m \u001b[39mNone\u001b[39;00m \u001b[39mand\u001b[39;00m \u001b[39mgetattr\u001b[39m(the_sum, \u001b[39m\"\u001b[39m\u001b[39mndim\u001b[39m\u001b[39m\"\u001b[39m, \u001b[39mFalse\u001b[39;00m):\n\u001b[0;32m    730\u001b[0m     count \u001b[39m=\u001b[39m cast(np\u001b[39m.\u001b[39mndarray, count)\n",
      "File \u001b[1;32mc:\\Users\\lenovo\\AppData\\Local\\Programs\\Python\\Python311\\Lib\\site-packages\\pandas\\core\\nanops.py:1699\u001b[0m, in \u001b[0;36m_ensure_numeric\u001b[1;34m(x)\u001b[0m\n\u001b[0;32m   1696\u001b[0m             x \u001b[39m=\u001b[39m \u001b[39mcomplex\u001b[39m(x)\n\u001b[0;32m   1697\u001b[0m         \u001b[39mexcept\u001b[39;00m \u001b[39mValueError\u001b[39;00m \u001b[39mas\u001b[39;00m err:\n\u001b[0;32m   1698\u001b[0m             \u001b[39m# e.g. \"foo\"\u001b[39;00m\n\u001b[1;32m-> 1699\u001b[0m             \u001b[39mraise\u001b[39;00m \u001b[39mTypeError\u001b[39;00m(\u001b[39mf\u001b[39m\u001b[39m\"\u001b[39m\u001b[39mCould not convert \u001b[39m\u001b[39m{\u001b[39;00mx\u001b[39m}\u001b[39;00m\u001b[39m to numeric\u001b[39m\u001b[39m\"\u001b[39m) \u001b[39mfrom\u001b[39;00m \u001b[39merr\u001b[39;00m\n\u001b[0;32m   1700\u001b[0m \u001b[39mreturn\u001b[39;00m x\n",
      "\u001b[1;31mTypeError\u001b[0m: Could not convert ClearCloudsCloudsClearCloudsCloudsCloudsCloudsClearCloudsCloudsClearClearCloudsHazeHazeSnowCloudsCloudsSnowSnowMistSnowHazeSnowHazeSnowCloudsSnowMistFogSnowMistSnowMistSnowMistSnowMistHazeSnowMistHazeSnowMistSnowMistMistMistHazeSnowSnowSnowMistSnowMistSnowMistSnowClearClearClearClearClearClearClearClearClearClearClearClearClearClearClearCloudsCloudsCloudsMistMistMistMistHazeHazeMistHazeHazeHazeHazeHazeClearCloudsCloudsClearClearClearClearCloudsCloudsCloudsCloudsCloudsCloudsCloudsCloudsCloudsCloudsCloudsCloudsCloudsCloudsCloudsCloudsCloudsMistMistMistMistHazeCloudsCloudsCloudsCloudsCloudsCloudsCloudsClearCloudsCloudsCloudsCloudsCloudsCloudsCloudsCloudsCloudsRainRainDrizzleDrizzleRainRainDrizzleMistMistMistMistDrizzleMistFogDrizzleMistFogDrizzleMistDrizzleMistDrizzleMistFogDrizzleMistMistDrizzleDrizzleMistDrizzleRainSnowSnowHazeSnowCloudsCloudsSnowCloudsCloudsCloudsCloudsSnowSnowHazeSnowHazeHazeSnowSnowHazeSnowSnowHazeSnowHazeCloudsCloudsCloudsCloudsCloudsCloudsCloudsCloudsCloudsClearCloudsCloudsClearCloudsCloudsClearClearClearClearClearCloudsCloudsClearClearMistSnowCloudsCloudsCloudsCloudsSnowSnowSnowMistSnowCloudsCloudsClearCloudsCloudsSnowSnowSnowHazeCloudsCloudsClearClearCloudsCloudsCloudsCloudsCloudsCloudsCloudsCloudsCloudsCloudsCloudsCloudsCloudsCloudsMistMistMistCloudsCloudsCloudsCloudsHazeSnowCloudsCloudsCloudsCloudsCloudsCloudsCloudsCloudsCloudsSnowHazeCloudsCloudsHazeHazeHazeCloudsCloudsCloudsCloudsClearCloudsCloudsCloudsCloudsCloudsCloudsCloudsCloudsCloudsCloudsCloudsSnowMistSnowHazeMistSnowSnowCloudsCloudsCloudsCloudsCloudsCloudsCloudsCloudsCloudsCloudsCloudsCloudsSnowSnowSnowCloudsCloudsCloudsCloudsCloudsCloudsCloudsCloudsCloudsCloudsCloudsCloudsRainMistSnowSnowSnowMistMistMistMistCloudsCloudsCloudsCloudsCloudsCloudsCloudsCloudsCloudsCloudsCloudsCloudsCloudsCloudsCloudsCloudsCloudsCloudsCloudsCloudsCloudsCloudsCloudsCloudsCloudsCloudsCloudsCloudsCloudsCloudsClearClearClearClearCloudsCloudsCloudsCloudsCloudsClearCloudsCloudsCloudsCloudsCloudsSnowSnowSnowHazeHazeSnowHazeSnowMistRainHazeMistHazeSnowMistMistHazeCloudsSnowCloudsSnowCloudsCloudsCloudsCloudsCloudsCloudsClearClearClearClearClearClearClearCloudsCloudsHazeSnowCloudsCloudsCloudsCloudsCloudsCloudsCloudsCloudsCloudsClearCloudsCloudsCloudsCloudsClearClearClearCloudsCloudsCloudsCloudsCloudsClearCloudsClearClearCloudsClearClearClearClearCloudsCloudsClearClearCloudsCloudsCloudsCloudsCloudsCloudsCloudsCloudsCloudsCloudsCloudsCloudsMistMistMistMistMistMistMistMistMistMistMistMistCloudsMistMistMistCloudsCloudsCloudsCloudsCloudsCloudsCloudsCloudsCloudsCloudsCloudsRainRainRainRainRainRainRainCloudsCloudsCloudsCloudsCloudsSnowCloudsCloudsRainCloudsCloudsCloudsSnowFogSnowMistHazeSnowMistHazeSnowMistHazeSnowCloudsCloudsClearCloudsCloudsClearCloudsCloudsCloudsCloudsCloudsCloudsCloudsCloudsCloudsHazeSnowMistRainSnowMistHazeMistSnowRainHazeRainHazeRainSnowRainHazeHazeHazeCloudsCloudsCloudsCloudsCloudsCloudsCloudsCloudsCloudsClearCloudsCloudsCloudsCloudsCloudsCloudsCloudsCloudsCloudsCloudsCloudsCloudsCloudsCloudsCloudsCloudsCloudsCloudsCloudsCloudsCloudsRainRainRainRainRainRainRainRainCloudsSnowSnowRainSnowSnowHazeSnowCloudsCloudsCloudsCloudsCloudsCloudsClearClearClearCloudsCloudsCloudsSnowHazeSnowSnowSnowHazeSnowHazeHazeSnowHazeHazeHazeCloudsClearClearCloudsCloudsCloudsClearClearClearClearClearClearClearClearCloudsClearCloudsCloudsCloudsCloudsCloudsCloudsCloudsRainCloudsSnowRainRainSnowMistCloudsCloudsCloudsSnowSnowHazeCloudsCloudsCloudsCloudsCloudsCloudsSnowMistCloudsCloudsCloudsCloudsCloudsCloudsCloudsCloudsCloudsCloudsCloudsClearClearClearClearClearClearClearClearClearClearClearClearClearClearClearClearClearClearCloudsCloudsCloudsCloudsCloudsClearCloudsCloudsCloudsCloudsCloudsCloudsCloudsRainCloudsCloudsCloudsRainRainRainRainRainRainRainRainClearClearClearClearClearClearClearClearClearClearRainRainClearClearClearClearClearCloudsCloudsCloudsClearClearClearClearClearClearClearClearClearClearClearClearClearCloudsCloudsCloudsCloudsCloudsCloudsClearMistFogFogMistFogMistSnowMistSnowClearClearClearCloudsCloudsClearClearCloudsClearCloudsClearClearClearClearClearClearCloudsRainCloudsHazeSnowMistSnowMistRainSnowMistSnowSnowMistMistSnowSnowMistSnowMistMistSnowMistSnowMistSnowMistSnowSnowMistSnowMistSnowMistCloudsCloudsSnowHazeMistSnowHazeCloudsCloudsClearClearClearClearClearClearClearClearHazeSnowHazeMistSnowSnowSnowHazeMistSnowClearClearClearClearClearClearCloudsSnowHazeCloudsCloudsHazeHazeHazeMistHazeMistHazeMistMistHazeHazeMistMistHazeMistSnowSnowCloudsCloudsClearClearCloudsCloudsCloudsSnowHazeSnowHazeHazeClearClearClearClearClearClearClearClearClearClearClearCloudsCloudsCloudsCloudsCloudsCloudsCloudsClearClearClearClearCloudsCloudsCloudsSnowMistSnowMistHazeSnowMistHazeMistSnowMistHazeMistHazeHazeMistMistHazeMistHazeSnowHazeMistSnowHazeMistSnowHazeMistSnowHazeMistSnowHazeSnowMistSnowHazeSnowSnowHazeSnowCloudsCloudsCloudsSnowHazeSnowCloudsCloudsHazeHazeMistSnowMistSnowSnowMistSnowMistMistSnowHazeHazeMistMistFogSnowMistFogMistFogMistHazeMistRainMistRainSnowSnowMistHazeSnowSnowSnowHazeCloudsSnowCloudsSnowMistCloudsCloudsCloudsCloudsCloudsCloudsCloudsCloudsCloudsCloudsCloudsCloudsCloudsClearCloudsCloudsCloudsCloudsCloudsClearCloudsCloudsCloudsCloudsClearClearCloudsRainDrizzleCloudsMistFogMistFogClearCloudsClearCloudsClearCloudsClearCloudsClearClearCloudsCloudsCloudsCloudsCloudsClearCloudsCloudsCloudsCloudsSnowSnowSnowSnowMistSnowHazeMistHazeSnowMistRainMistHazeSnowDrizzleMistSnowMistSnowCloudsCloudsSnowSnowSnowSnowCloudsHazeClearClearClearClearClearHazeSnowHazeHazeClearClearClearClearClearClearClearCloudsMistMistMistMistClearClearCloudsHazeHazeCloudsCloudsCloudsHazeClearClearClearClearClearClearClearCloudsCloudsCloudsCloudsClearCloudsClearClearHazeClearClearClearClearClearClearClearClearSnowSnowClearClearCloudsClearCloudsSnowSnowSnowSnowCloudsCloudsCloudsSnowSnowSnowSnowMistHazeSnowMistSnowMistFogSnowMistSnowMistHazeHazeSnowMistSnowSnowMistSnowMistFogSnowMistSnowFogMistSnowMistSnowMistSnowFogHazeHazeSnowMistHazeHazeClearSnowMistSnowMistSnowMistSnowMistSnowHazeSnowSnowCloudsClearClearClearClearHazeCloudsHazeClearClearSnowSnowHazeSnowSnowHazeHazeClearCloudsCloudsCloudsClearCloudsCloudsCloudsCloudsCloudsSnowSnowCloudsCloudsClearClearSnowClearClearClearClearClearClearClearClearClearMistMistSnowClearClearClearClearCloudsClearClearCloudsClearCloudsMistHazeMistMistHazeMistHazeHazeMistHazeMistHazeMistHazeMistHazeHazeHazeCloudsMistDrizzleMistMistHazeFogHazeMistFogHazeMistMistHazeMistHazeMistHazeMistMistMistMistMistHazeHazeMistMistHazeMistHazeClearClearClearClearClearClearClearClearMistFogMistHazeMistHazeFogMistHazeHazeMistMistMistMistHazeMistMistCloudsCloudsMistDrizzleFogRainDrizzleMistSnowDrizzleMistRainSnowDrizzleMistMistMistMistMistFogMistFogMistMistFogMistFogMistRainFogDrizzleMistDrizzleRainDrizzleMistRainDrizzleMistFogRainDrizzleMistMistRainDrizzleMistRainMistFogMistFogRainMistFogDrizzleMistFogDrizzleMistFogMistFogMistFogMistFogMistFogMistMistMistMistCloudsCloudsMistMistDrizzleMistSnowDrizzleMistSnowMistSnowMistSnowRainMistRainMistMistSnowRainMistSnowMistMistHazeMistMistMistCloudsCloudsCloudsClearClearClearCloudsCloudsCloudsCloudsCloudsCloudsCloudsCloudsSnowMistSnowMistSnowMistHazeSnowMistCloudsCloudsCloudsCloudsCloudsCloudsCloudsCloudsCloudsCloudsCloudsCloudsCloudsCloudsCloudsCloudsSnowCloudsCloudsCloudsCloudsClearCloudsCloudsCloudsClearClearClearClearCloudsHazeCloudsCloudsCloudsCloudsCloudsCloudsCloudsCloudsCloudsCloudsCloudsSnowSnowCloudsCloudsClearClearCloudsClearCloudsCloudsCloudsSnowSnowMistSnowMistMistSnowMistHazeMistMistHazeMistMistMistMistMistCloudsCloudsCloudsSnowSnowCloudsCloudsSnowSnowSnowRainSnowRainSnowClearClearClearClearClearClearClearClearClearClearClearClearClearClearClearClearCloudsCloudsCloudsCloudsClearSnowMistSnowMistSnowHazeCloudsClearClearClearCloudsCloudsCloudsCloudsClearClearClearClearCloudsCloudsCloudsCloudsCloudsCloudsCloudsCloudsCloudsCloudsCloudsCloudsClearClearHazeClearClearCloudsCloudsClearCloudsClearCloudsCloudsClearHazeMistMistCloudsCloudsClearCloudsCloudsCloudsClearCloudsCloudsCloudsClearCloudsClearCloudsCloudsCloudsCloudsCloudsCloudsCloudsClearClearCloudsClearCloudsClearCloudsClearCloudsCloudsCloudsCloudsCloudsCloudsCloudsCloudsCloudsCloudsCloudsCloudsCloudsCloudsCloudsCloudsMistHazeMistHazeMistHazeMistHazeMistMistMistHazeMistHazeMistMistHazeMistHazeDrizzleMistSnowMistSnowMistSnowMistSnowMistSnowMistSnowMistSnowMistSnowMistSnowMistSnowSnowHazeSnowClearClearClearClearClearClearClearClearClearClearClearClearClearClearClearClearClearClearClearClearClearClearClearClearCloudsCloudsSnowSnowMistSnowMistSnowHazeSnowHazeSnowMistSnowFogSnowMistFogSnowMistFogSnowMistSnowMistHazeSnowMistSnowHazeHazeSnowHazeSnowSnowHazeSnowHazeHazeSnowHazeSnowHazeSnowSnowSnowSnowSnowMistSnowSnowMistClearClearClearClearClearClearClearClearCloudsCloudsCloudsClearClearCloudsClearClearClearClearClearClearCloudsCloudsClearClearClearClearCloudsCloudsCloudsCloudsCloudsCloudsCloudsClearCloudsCloudsCloudsCloudsCloudsCloudsCloudsCloudsCloudsMistCloudsCloudsMistCloudsCloudsCloudsCloudsCloudsCloudsCloudsClearMistMistCloudsCloudsCloudsCloudsCloudsCloudsCloudsCloudsCloudsCloudsSnowSnowSnowSnowMistSnowMistFogSnowMistFogSnowFogMistSnowFogSnowFogSnowFogSnowFogSnowFogMistCloudsCloudsCloudsCloudsCloudsClearCloudsClearCloudsClearHazeCloudsCloudsSnowMistMistMistMistMistMistHazeCloudsMistMistMistFogMistFogMistFogMistFogSnowMistSnowMistMistMistSnowMistMistMistHazeMistHazeSnowCloudsCloudsClearClearCloudsCloudsCloudsCloudsCloudsClearCloudsCloudsClearClearClearClearCloudsClearCloudsCloudsCloudsClearClearClearSnowSnowSnowSnowSnowSnowHazeSnowSnowSnowSnowSnowSnowClearClearCloudsClearClearClearClearClearClearClearClearClearSnowSnowCloudsCloudsCloudsCloudsCloudsClearCloudsClearClearClearClearClearClearClearSnowClearClearClearClearCloudsCloudsClouds to numeric"
     ]
    }
   ],
   "source": [
    "day.groupby('month').mean()"
   ]
  },
  {
   "cell_type": "code",
   "execution_count": 12,
   "metadata": {},
   "outputs": [
    {
     "ename": "TypeError",
     "evalue": "Could not convert ClearCloudsCloudsClearCloudsCloudsCloudsCloudsClearCloudsCloudsClearClearCloudsHazeHazeSnowCloudsCloudsSnowSnowMistSnowHazeSnowHazeSnowCloudsSnowMistFogSnowMistSnowMistSnowMistSnowMistHazeSnowMistHazeSnowMistSnowMistMistMistHazeSnowSnowSnowMistSnowMistSnowMistSnowClearClearClearClearClearClearClearClearClearClearClearClearClearClearClearCloudsCloudsCloudsMistMistMistMistHazeHazeMistHazeHazeHazeHazeHazeClearCloudsCloudsClearClearClearClearCloudsCloudsCloudsCloudsCloudsCloudsCloudsCloudsCloudsCloudsCloudsCloudsCloudsCloudsCloudsCloudsCloudsMistMistMistMistHazeCloudsCloudsCloudsCloudsCloudsCloudsCloudsClearCloudsCloudsCloudsCloudsCloudsCloudsCloudsCloudsCloudsRainRainDrizzleDrizzleRainRainDrizzleMistMistMistMistDrizzleMistFogDrizzleMistFogDrizzleMistDrizzleMistDrizzleMistFogDrizzleMistMistDrizzleDrizzleMistDrizzleRainSnowSnowHazeSnowCloudsCloudsSnowCloudsCloudsCloudsCloudsSnowSnowHazeSnowHazeHazeSnowSnowHazeSnowSnowHazeSnowHazeCloudsCloudsCloudsCloudsCloudsCloudsCloudsCloudsCloudsClearCloudsCloudsClearCloudsCloudsClearClearClearClearClearCloudsCloudsClearClearMistSnowCloudsCloudsCloudsCloudsSnowSnowSnowMistSnowCloudsCloudsClearCloudsCloudsSnowSnowSnowHazeCloudsCloudsClearClearCloudsCloudsCloudsCloudsCloudsCloudsCloudsCloudsCloudsCloudsCloudsCloudsCloudsCloudsMistMistMistCloudsCloudsCloudsCloudsHazeSnowCloudsCloudsCloudsCloudsCloudsCloudsCloudsCloudsCloudsSnowHazeCloudsCloudsHazeHazeHazeCloudsCloudsCloudsCloudsClearCloudsCloudsCloudsCloudsCloudsCloudsCloudsCloudsCloudsCloudsCloudsSnowMistSnowHazeMistSnowSnowCloudsCloudsCloudsCloudsCloudsCloudsCloudsCloudsCloudsCloudsCloudsCloudsSnowSnowSnowCloudsCloudsCloudsCloudsCloudsCloudsCloudsCloudsCloudsCloudsCloudsCloudsRainMistSnowSnowSnowMistMistMistMistCloudsCloudsCloudsCloudsCloudsCloudsCloudsCloudsCloudsCloudsCloudsCloudsCloudsCloudsCloudsCloudsCloudsCloudsCloudsCloudsCloudsCloudsCloudsCloudsCloudsCloudsCloudsCloudsCloudsCloudsClearClearClearClearCloudsCloudsCloudsCloudsCloudsClearCloudsCloudsCloudsCloudsCloudsSnowSnowSnowHazeHazeSnowHazeSnowMistRainHazeMistHazeSnowMistMistHazeCloudsSnowCloudsSnowCloudsCloudsCloudsCloudsCloudsCloudsClearClearClearClearClearClearClearCloudsCloudsHazeSnowCloudsCloudsCloudsCloudsCloudsCloudsCloudsCloudsCloudsClearCloudsCloudsCloudsCloudsClearClearClearCloudsCloudsCloudsCloudsCloudsClearCloudsClearClearCloudsClearClearClearClearCloudsCloudsClearClearCloudsCloudsCloudsCloudsCloudsCloudsCloudsCloudsCloudsCloudsCloudsCloudsMistMistMistMistMistMistMistMistMistMistMistMistCloudsMistMistMistCloudsCloudsCloudsCloudsCloudsCloudsCloudsCloudsCloudsCloudsCloudsRainRainRainRainRainRainRainCloudsCloudsCloudsCloudsCloudsSnowCloudsCloudsRainCloudsCloudsCloudsSnowFogSnowMistHazeSnowMistHazeSnowMistHazeSnowCloudsCloudsClearCloudsCloudsClearCloudsCloudsCloudsCloudsCloudsCloudsCloudsCloudsCloudsHazeSnowMistRainSnowMistHazeMistSnowRainHazeRainHazeRainSnowRainHazeHazeHazeCloudsCloudsCloudsCloudsCloudsCloudsCloudsCloudsCloudsClearCloudsCloudsCloudsCloudsCloudsCloudsCloudsCloudsCloudsCloudsCloudsCloudsCloudsCloudsCloudsCloudsCloudsCloudsCloudsCloudsCloudsRainRainRainRainRainRainRainRainCloudsSnowSnowRainSnowSnowHazeSnowCloudsCloudsCloudsCloudsCloudsCloudsClearClearClearCloudsCloudsCloudsSnowHazeSnowSnowSnowHazeSnowHazeHazeSnowHazeHazeHazeCloudsClearClearCloudsCloudsCloudsClearClearClearClearClearClearClearClearCloudsClearCloudsCloudsCloudsCloudsCloudsCloudsCloudsRainCloudsSnowRainRainSnowMistCloudsCloudsCloudsSnowSnowHazeCloudsCloudsCloudsCloudsCloudsCloudsSnowMistCloudsCloudsCloudsCloudsCloudsCloudsCloudsCloudsCloudsCloudsCloudsClearClearClearClearClearClearClearClearClearClearClearClearClearClearClearClearClearClearCloudsCloudsCloudsCloudsCloudsClearCloudsCloudsCloudsCloudsCloudsCloudsCloudsRainCloudsCloudsCloudsRainRainRainRainRainRainRainRainClearClearClearClearClearClearClearClearClearClearRainRainClearClearClearClearClearCloudsCloudsCloudsClearClearClearClearClearClearClearClearClearClearClearClearClearCloudsCloudsCloudsCloudsCloudsCloudsClearMistFogFogMistFogMistSnowMistSnowClearClearClearCloudsCloudsClearClearCloudsClearCloudsClearClearClearClearClearClearCloudsRainCloudsHazeSnowMistSnowMistRainSnowMistSnowSnowMistMistSnowSnowMistSnowMistMistSnowMistSnowMistSnowMistSnowSnowMistSnowMistSnowMistCloudsCloudsSnowHazeMistSnowHazeCloudsCloudsClearClearClearClearClearClearClearClearHazeSnowHazeMistSnowSnowSnowHazeMistSnowClearClearClearClearClearClearCloudsSnowHazeCloudsCloudsHazeHazeHazeMistHazeMistHazeMistMistHazeHazeMistMistHazeMistSnowSnowCloudsCloudsClearClearCloudsCloudsCloudsSnowHazeSnowHazeHazeClearClearClearClearClearClearClearClearClearClearClearCloudsCloudsCloudsCloudsCloudsCloudsCloudsClearClearClearClearCloudsCloudsCloudsSnowMistSnowMistHazeSnowMistHazeMistSnowMistHazeMistHazeHazeMistMistHazeMistHazeSnowHazeMistSnowHazeMistSnowHazeMistSnowHazeMistSnowHazeSnowMistSnowHazeSnowSnowHazeSnowCloudsCloudsCloudsSnowHazeSnowCloudsCloudsHazeHazeMistSnowMistSnowSnowMistSnowMistMistSnowHazeHazeMistMistFogSnowMistFogMistFogMistHazeMistRainMistRainSnowSnowMistHazeSnowSnowSnowHazeCloudsSnowCloudsSnowMistCloudsCloudsCloudsCloudsCloudsCloudsCloudsCloudsCloudsCloudsCloudsCloudsCloudsClearCloudsCloudsCloudsCloudsCloudsClearCloudsCloudsCloudsCloudsClearClearCloudsRainDrizzleCloudsMistFogMistFogClearCloudsClearCloudsClearCloudsClearCloudsClearClearCloudsCloudsCloudsCloudsCloudsClearCloudsCloudsCloudsCloudsSnowSnowSnowSnowMistSnowHazeMistHazeSnowMistRainMistHazeSnowDrizzleMistSnowMistSnowCloudsCloudsSnowSnowSnowSnowCloudsHazeClearClearClearClearClearHazeSnowHazeHazeClearClearClearClearClearClearClearCloudsMistMistMistMistClearClearCloudsHazeHazeCloudsCloudsCloudsHazeClearClearClearClearClearClearClearCloudsCloudsCloudsCloudsClearCloudsClearClearHazeClearClearClearClearClearClearClearClearSnowSnowClearClearCloudsClearCloudsSnowSnowSnowSnowCloudsCloudsCloudsSnowSnowSnowSnowMistHazeSnowMistSnowMistFogSnowMistSnowMistHazeHazeSnowMistSnowSnowMistSnowMistFogSnowMistSnowFogMistSnowMistSnowMistSnowFogHazeHazeSnowMistHazeHazeClearSnowMistSnowMistSnowMistSnowMistSnowHazeSnowSnowCloudsClearClearClearClearHazeCloudsHazeClearClearSnowSnowHazeSnowSnowHazeHazeClearCloudsCloudsCloudsClearCloudsCloudsCloudsCloudsCloudsSnowSnowCloudsCloudsClearClearSnowClearClearClearClearClearClearClearClearClearMistMistSnowClearClearClearClearCloudsClearClearCloudsClearCloudsMistHazeMistMistHazeMistHazeHazeMistHazeMistHazeMistHazeMistHazeHazeHazeCloudsMistDrizzleMistMistHazeFogHazeMistFogHazeMistMistHazeMistHazeMistHazeMistMistMistMistMistHazeHazeMistMistHazeMistHazeClearClearClearClearClearClearClearClearMistFogMistHazeMistHazeFogMistHazeHazeMistMistMistMistHazeMistMistCloudsCloudsMistDrizzleFogRainDrizzleMistSnowDrizzleMistRainSnowDrizzleMistMistMistMistMistFogMistFogMistMistFogMistFogMistRainFogDrizzleMistDrizzleRainDrizzleMistRainDrizzleMistFogRainDrizzleMistMistRainDrizzleMistRainMistFogMistFogRainMistFogDrizzleMistFogDrizzleMistFogMistFogMistFogMistFogMistFogMistMistMistMistCloudsCloudsMistMistDrizzleMistSnowDrizzleMistSnowMistSnowMistSnowRainMistRainMistMistSnowRainMistSnowMistMistHazeMistMistMistCloudsCloudsCloudsClearClearClearCloudsCloudsCloudsCloudsCloudsCloudsCloudsCloudsSnowMistSnowMistSnowMistHazeSnowMistCloudsCloudsCloudsCloudsCloudsCloudsCloudsCloudsCloudsCloudsCloudsCloudsCloudsCloudsCloudsCloudsSnowCloudsCloudsCloudsCloudsClearCloudsCloudsCloudsClearClearClearClearCloudsHazeCloudsCloudsCloudsCloudsCloudsCloudsCloudsCloudsCloudsCloudsCloudsSnowSnowCloudsCloudsClearClearCloudsClearCloudsCloudsCloudsSnowSnowMistSnowMistMistSnowMistHazeMistMistHazeMistMistMistMistMistCloudsCloudsCloudsSnowSnowCloudsCloudsSnowSnowSnowRainSnowRainSnowClearClearClearClearClearClearClearClearClearClearClearClearClearClearClearClearCloudsCloudsCloudsCloudsClearSnowMistSnowMistSnowHazeCloudsClearClearClearCloudsCloudsCloudsCloudsClearClearClearClearCloudsCloudsCloudsCloudsCloudsCloudsCloudsCloudsCloudsCloudsCloudsCloudsClearClearHazeClearClearCloudsCloudsClearCloudsClearCloudsCloudsClearHazeMistMistCloudsCloudsClearCloudsCloudsCloudsClearCloudsCloudsCloudsClearCloudsClearCloudsCloudsCloudsCloudsCloudsCloudsCloudsClearClearCloudsClearCloudsClearCloudsClearCloudsCloudsCloudsCloudsCloudsCloudsCloudsCloudsCloudsCloudsCloudsCloudsCloudsCloudsCloudsCloudsMistHazeMistHazeMistHazeMistHazeMistMistMistHazeMistHazeMistMistHazeMistHazeDrizzleMistSnowMistSnowMistSnowMistSnowMistSnowMistSnowMistSnowMistSnowMistSnowMistSnowSnowHazeSnowClearClearClearClearClearClearClearClearClearClearClearClearClearClearClearClearClearClearClearClearClearClearClearClearCloudsCloudsSnowSnowMistSnowMistSnowHazeSnowHazeSnowMistSnowFogSnowMistFogSnowMistFogSnowMistSnowMistHazeSnowMistSnowHazeHazeSnowHazeSnowSnowHazeSnowHazeHazeSnowHazeSnowHazeSnowSnowSnowSnowSnowMistSnowSnowMistClearClearClearClearClearClearClearClearCloudsCloudsCloudsClearClearCloudsClearClearClearClearClearClearCloudsCloudsClearClearClearClearCloudsCloudsCloudsCloudsCloudsCloudsCloudsClearCloudsCloudsCloudsCloudsCloudsCloudsCloudsCloudsCloudsMistCloudsCloudsMistCloudsCloudsCloudsCloudsCloudsCloudsCloudsClearMistMistCloudsCloudsCloudsCloudsCloudsCloudsCloudsCloudsCloudsCloudsSnowSnowSnowSnowMistSnowMistFogSnowMistFogSnowFogMistSnowFogSnowFogSnowFogSnowFogSnowFogMistCloudsCloudsCloudsCloudsCloudsClearCloudsClearCloudsClearHazeCloudsCloudsSnowMistMistMistMistMistMistHazeCloudsMistMistMistFogMistFogMistFogMistFogSnowMistSnowMistMistMistSnowMistMistMistHazeMistHazeSnowCloudsCloudsClearClearCloudsCloudsCloudsCloudsCloudsClearCloudsCloudsClearClearClearClearCloudsClearCloudsCloudsCloudsClearClearClearSnowSnowSnowSnowSnowSnowHazeSnowSnowSnowSnowSnowSnowClearClearCloudsClearClearClearClearClearClearClearClearClearSnowSnowCloudsCloudsCloudsCloudsCloudsClearCloudsClearClearClearClearClearClearClearSnowClearClearClearClearCloudsCloudsClouds to numeric",
     "output_type": "error",
     "traceback": [
      "\u001b[1;31m---------------------------------------------------------------------------\u001b[0m",
      "\u001b[1;31mNotImplementedError\u001b[0m                       Traceback (most recent call last)",
      "File \u001b[1;32mc:\\Users\\lenovo\\AppData\\Local\\Programs\\Python\\Python311\\Lib\\site-packages\\pandas\\core\\groupby\\groupby.py:1490\u001b[0m, in \u001b[0;36mGroupBy._cython_agg_general.<locals>.array_func\u001b[1;34m(values)\u001b[0m\n\u001b[0;32m   1489\u001b[0m \u001b[39mtry\u001b[39;00m:\n\u001b[1;32m-> 1490\u001b[0m     result \u001b[39m=\u001b[39m \u001b[39mself\u001b[39;49m\u001b[39m.\u001b[39;49mgrouper\u001b[39m.\u001b[39;49m_cython_operation(\n\u001b[0;32m   1491\u001b[0m         \u001b[39m\"\u001b[39;49m\u001b[39maggregate\u001b[39;49m\u001b[39m\"\u001b[39;49m,\n\u001b[0;32m   1492\u001b[0m         values,\n\u001b[0;32m   1493\u001b[0m         how,\n\u001b[0;32m   1494\u001b[0m         axis\u001b[39m=\u001b[39;49mdata\u001b[39m.\u001b[39;49mndim \u001b[39m-\u001b[39;49m \u001b[39m1\u001b[39;49m,\n\u001b[0;32m   1495\u001b[0m         min_count\u001b[39m=\u001b[39;49mmin_count,\n\u001b[0;32m   1496\u001b[0m         \u001b[39m*\u001b[39;49m\u001b[39m*\u001b[39;49mkwargs,\n\u001b[0;32m   1497\u001b[0m     )\n\u001b[0;32m   1498\u001b[0m \u001b[39mexcept\u001b[39;00m \u001b[39mNotImplementedError\u001b[39;00m:\n\u001b[0;32m   1499\u001b[0m     \u001b[39m# generally if we have numeric_only=False\u001b[39;00m\n\u001b[0;32m   1500\u001b[0m     \u001b[39m# and non-applicable functions\u001b[39;00m\n\u001b[0;32m   1501\u001b[0m     \u001b[39m# try to python agg\u001b[39;00m\n\u001b[0;32m   1502\u001b[0m     \u001b[39m# TODO: shouldn't min_count matter?\u001b[39;00m\n",
      "File \u001b[1;32mc:\\Users\\lenovo\\AppData\\Local\\Programs\\Python\\Python311\\Lib\\site-packages\\pandas\\core\\groupby\\ops.py:959\u001b[0m, in \u001b[0;36mBaseGrouper._cython_operation\u001b[1;34m(self, kind, values, how, axis, min_count, **kwargs)\u001b[0m\n\u001b[0;32m    958\u001b[0m ngroups \u001b[39m=\u001b[39m \u001b[39mself\u001b[39m\u001b[39m.\u001b[39mngroups\n\u001b[1;32m--> 959\u001b[0m \u001b[39mreturn\u001b[39;00m cy_op\u001b[39m.\u001b[39;49mcython_operation(\n\u001b[0;32m    960\u001b[0m     values\u001b[39m=\u001b[39;49mvalues,\n\u001b[0;32m    961\u001b[0m     axis\u001b[39m=\u001b[39;49maxis,\n\u001b[0;32m    962\u001b[0m     min_count\u001b[39m=\u001b[39;49mmin_count,\n\u001b[0;32m    963\u001b[0m     comp_ids\u001b[39m=\u001b[39;49mids,\n\u001b[0;32m    964\u001b[0m     ngroups\u001b[39m=\u001b[39;49mngroups,\n\u001b[0;32m    965\u001b[0m     \u001b[39m*\u001b[39;49m\u001b[39m*\u001b[39;49mkwargs,\n\u001b[0;32m    966\u001b[0m )\n",
      "File \u001b[1;32mc:\\Users\\lenovo\\AppData\\Local\\Programs\\Python\\Python311\\Lib\\site-packages\\pandas\\core\\groupby\\ops.py:657\u001b[0m, in \u001b[0;36mWrappedCythonOp.cython_operation\u001b[1;34m(self, values, axis, min_count, comp_ids, ngroups, **kwargs)\u001b[0m\n\u001b[0;32m    649\u001b[0m     \u001b[39mreturn\u001b[39;00m \u001b[39mself\u001b[39m\u001b[39m.\u001b[39m_ea_wrap_cython_operation(\n\u001b[0;32m    650\u001b[0m         values,\n\u001b[0;32m    651\u001b[0m         min_count\u001b[39m=\u001b[39mmin_count,\n\u001b[1;32m   (...)\u001b[0m\n\u001b[0;32m    654\u001b[0m         \u001b[39m*\u001b[39m\u001b[39m*\u001b[39mkwargs,\n\u001b[0;32m    655\u001b[0m     )\n\u001b[1;32m--> 657\u001b[0m \u001b[39mreturn\u001b[39;00m \u001b[39mself\u001b[39;49m\u001b[39m.\u001b[39;49m_cython_op_ndim_compat(\n\u001b[0;32m    658\u001b[0m     values,\n\u001b[0;32m    659\u001b[0m     min_count\u001b[39m=\u001b[39;49mmin_count,\n\u001b[0;32m    660\u001b[0m     ngroups\u001b[39m=\u001b[39;49mngroups,\n\u001b[0;32m    661\u001b[0m     comp_ids\u001b[39m=\u001b[39;49mcomp_ids,\n\u001b[0;32m    662\u001b[0m     mask\u001b[39m=\u001b[39;49m\u001b[39mNone\u001b[39;49;00m,\n\u001b[0;32m    663\u001b[0m     \u001b[39m*\u001b[39;49m\u001b[39m*\u001b[39;49mkwargs,\n\u001b[0;32m    664\u001b[0m )\n",
      "File \u001b[1;32mc:\\Users\\lenovo\\AppData\\Local\\Programs\\Python\\Python311\\Lib\\site-packages\\pandas\\core\\groupby\\ops.py:497\u001b[0m, in \u001b[0;36mWrappedCythonOp._cython_op_ndim_compat\u001b[1;34m(self, values, min_count, ngroups, comp_ids, mask, result_mask, **kwargs)\u001b[0m\n\u001b[0;32m    495\u001b[0m     \u001b[39mreturn\u001b[39;00m res\u001b[39m.\u001b[39mT\n\u001b[1;32m--> 497\u001b[0m \u001b[39mreturn\u001b[39;00m \u001b[39mself\u001b[39;49m\u001b[39m.\u001b[39;49m_call_cython_op(\n\u001b[0;32m    498\u001b[0m     values,\n\u001b[0;32m    499\u001b[0m     min_count\u001b[39m=\u001b[39;49mmin_count,\n\u001b[0;32m    500\u001b[0m     ngroups\u001b[39m=\u001b[39;49mngroups,\n\u001b[0;32m    501\u001b[0m     comp_ids\u001b[39m=\u001b[39;49mcomp_ids,\n\u001b[0;32m    502\u001b[0m     mask\u001b[39m=\u001b[39;49mmask,\n\u001b[0;32m    503\u001b[0m     result_mask\u001b[39m=\u001b[39;49mresult_mask,\n\u001b[0;32m    504\u001b[0m     \u001b[39m*\u001b[39;49m\u001b[39m*\u001b[39;49mkwargs,\n\u001b[0;32m    505\u001b[0m )\n",
      "File \u001b[1;32mc:\\Users\\lenovo\\AppData\\Local\\Programs\\Python\\Python311\\Lib\\site-packages\\pandas\\core\\groupby\\ops.py:541\u001b[0m, in \u001b[0;36mWrappedCythonOp._call_cython_op\u001b[1;34m(self, values, min_count, ngroups, comp_ids, mask, result_mask, **kwargs)\u001b[0m\n\u001b[0;32m    540\u001b[0m out_shape \u001b[39m=\u001b[39m \u001b[39mself\u001b[39m\u001b[39m.\u001b[39m_get_output_shape(ngroups, values)\n\u001b[1;32m--> 541\u001b[0m func \u001b[39m=\u001b[39m \u001b[39mself\u001b[39;49m\u001b[39m.\u001b[39;49m_get_cython_function(\u001b[39mself\u001b[39;49m\u001b[39m.\u001b[39;49mkind, \u001b[39mself\u001b[39;49m\u001b[39m.\u001b[39;49mhow, values\u001b[39m.\u001b[39;49mdtype, is_numeric)\n\u001b[0;32m    542\u001b[0m values \u001b[39m=\u001b[39m \u001b[39mself\u001b[39m\u001b[39m.\u001b[39m_get_cython_vals(values)\n",
      "File \u001b[1;32mc:\\Users\\lenovo\\AppData\\Local\\Programs\\Python\\Python311\\Lib\\site-packages\\pandas\\core\\groupby\\ops.py:173\u001b[0m, in \u001b[0;36mWrappedCythonOp._get_cython_function\u001b[1;34m(cls, kind, how, dtype, is_numeric)\u001b[0m\n\u001b[0;32m    171\u001b[0m \u001b[39mif\u001b[39;00m \u001b[39m\"\u001b[39m\u001b[39mobject\u001b[39m\u001b[39m\"\u001b[39m \u001b[39mnot\u001b[39;00m \u001b[39min\u001b[39;00m f\u001b[39m.\u001b[39m__signatures__:\n\u001b[0;32m    172\u001b[0m     \u001b[39m# raise NotImplementedError here rather than TypeError later\u001b[39;00m\n\u001b[1;32m--> 173\u001b[0m     \u001b[39mraise\u001b[39;00m \u001b[39mNotImplementedError\u001b[39;00m(\n\u001b[0;32m    174\u001b[0m         \u001b[39mf\u001b[39m\u001b[39m\"\u001b[39m\u001b[39mfunction is not implemented for this dtype: \u001b[39m\u001b[39m\"\u001b[39m\n\u001b[0;32m    175\u001b[0m         \u001b[39mf\u001b[39m\u001b[39m\"\u001b[39m\u001b[39m[how->\u001b[39m\u001b[39m{\u001b[39;00mhow\u001b[39m}\u001b[39;00m\u001b[39m,dtype->\u001b[39m\u001b[39m{\u001b[39;00mdtype_str\u001b[39m}\u001b[39;00m\u001b[39m]\u001b[39m\u001b[39m\"\u001b[39m\n\u001b[0;32m    176\u001b[0m     )\n\u001b[0;32m    177\u001b[0m \u001b[39mreturn\u001b[39;00m f\n",
      "\u001b[1;31mNotImplementedError\u001b[0m: function is not implemented for this dtype: [how->mean,dtype->object]",
      "\nDuring handling of the above exception, another exception occurred:\n",
      "\u001b[1;31mValueError\u001b[0m                                Traceback (most recent call last)",
      "File \u001b[1;32mc:\\Users\\lenovo\\AppData\\Local\\Programs\\Python\\Python311\\Lib\\site-packages\\pandas\\core\\nanops.py:1692\u001b[0m, in \u001b[0;36m_ensure_numeric\u001b[1;34m(x)\u001b[0m\n\u001b[0;32m   1691\u001b[0m \u001b[39mtry\u001b[39;00m:\n\u001b[1;32m-> 1692\u001b[0m     x \u001b[39m=\u001b[39m \u001b[39mfloat\u001b[39m(x)\n\u001b[0;32m   1693\u001b[0m \u001b[39mexcept\u001b[39;00m (\u001b[39mTypeError\u001b[39;00m, \u001b[39mValueError\u001b[39;00m):\n\u001b[0;32m   1694\u001b[0m     \u001b[39m# e.g. \"1+1j\" or \"foo\"\u001b[39;00m\n",
      "\u001b[1;31mValueError\u001b[0m: could not convert string to float: 'ClearCloudsCloudsClearCloudsCloudsCloudsCloudsClearCloudsCloudsClearClearCloudsHazeHazeSnowCloudsCloudsSnowSnowMistSnowHazeSnowHazeSnowCloudsSnowMistFogSnowMistSnowMistSnowMistSnowMistHazeSnowMistHazeSnowMistSnowMistMistMistHazeSnowSnowSnowMistSnowMistSnowMistSnowClearClearClearClearClearClearClearClearClearClearClearClearClearClearClearCloudsCloudsCloudsMistMistMistMistHazeHazeMistHazeHazeHazeHazeHazeClearCloudsCloudsClearClearClearClearCloudsCloudsCloudsCloudsCloudsCloudsCloudsCloudsCloudsCloudsCloudsCloudsCloudsCloudsCloudsCloudsCloudsMistMistMistMistHazeCloudsCloudsCloudsCloudsCloudsCloudsCloudsClearCloudsCloudsCloudsCloudsCloudsCloudsCloudsCloudsCloudsRainRainDrizzleDrizzleRainRainDrizzleMistMistMistMistDrizzleMistFogDrizzleMistFogDrizzleMistDrizzleMistDrizzleMistFogDrizzleMistMistDrizzleDrizzleMistDrizzleRainSnowSnowHazeSnowCloudsCloudsSnowCloudsCloudsCloudsCloudsSnowSnowHazeSnowHazeHazeSnowSnowHazeSnowSnowHazeSnowHazeCloudsCloudsCloudsCloudsCloudsCloudsCloudsCloudsCloudsClearCloudsCloudsClearCloudsCloudsClearClearClearClearClearCloudsCloudsClearClearMistSnowCloudsCloudsCloudsCloudsSnowSnowSnowMistSnowCloudsCloudsClearCloudsCloudsSnowSnowSnowHazeCloudsCloudsClearClearCloudsCloudsCloudsCloudsCloudsCloudsCloudsCloudsCloudsCloudsCloudsCloudsCloudsCloudsMistMistMistCloudsCloudsCloudsCloudsHazeSnowCloudsCloudsCloudsCloudsCloudsCloudsCloudsCloudsCloudsSnowHazeCloudsCloudsHazeHazeHazeCloudsCloudsCloudsCloudsClearCloudsCloudsCloudsCloudsCloudsCloudsCloudsCloudsCloudsCloudsCloudsSnowMistSnowHazeMistSnowSnowCloudsCloudsCloudsCloudsCloudsCloudsCloudsCloudsCloudsCloudsCloudsCloudsSnowSnowSnowCloudsCloudsCloudsCloudsCloudsCloudsCloudsCloudsCloudsCloudsCloudsCloudsRainMistSnowSnowSnowMistMistMistMistCloudsCloudsCloudsCloudsCloudsCloudsCloudsCloudsCloudsCloudsCloudsCloudsCloudsCloudsCloudsCloudsCloudsCloudsCloudsCloudsCloudsCloudsCloudsCloudsCloudsCloudsCloudsCloudsCloudsCloudsClearClearClearClearCloudsCloudsCloudsCloudsCloudsClearCloudsCloudsCloudsCloudsCloudsSnowSnowSnowHazeHazeSnowHazeSnowMistRainHazeMistHazeSnowMistMistHazeCloudsSnowCloudsSnowCloudsCloudsCloudsCloudsCloudsCloudsClearClearClearClearClearClearClearCloudsCloudsHazeSnowCloudsCloudsCloudsCloudsCloudsCloudsCloudsCloudsCloudsClearCloudsCloudsCloudsCloudsClearClearClearCloudsCloudsCloudsCloudsCloudsClearCloudsClearClearCloudsClearClearClearClearCloudsCloudsClearClearCloudsCloudsCloudsCloudsCloudsCloudsCloudsCloudsCloudsCloudsCloudsCloudsMistMistMistMistMistMistMistMistMistMistMistMistCloudsMistMistMistCloudsCloudsCloudsCloudsCloudsCloudsCloudsCloudsCloudsCloudsCloudsRainRainRainRainRainRainRainCloudsCloudsCloudsCloudsCloudsSnowCloudsCloudsRainCloudsCloudsCloudsSnowFogSnowMistHazeSnowMistHazeSnowMistHazeSnowCloudsCloudsClearCloudsCloudsClearCloudsCloudsCloudsCloudsCloudsCloudsCloudsCloudsCloudsHazeSnowMistRainSnowMistHazeMistSnowRainHazeRainHazeRainSnowRainHazeHazeHazeCloudsCloudsCloudsCloudsCloudsCloudsCloudsCloudsCloudsClearCloudsCloudsCloudsCloudsCloudsCloudsCloudsCloudsCloudsCloudsCloudsCloudsCloudsCloudsCloudsCloudsCloudsCloudsCloudsCloudsCloudsRainRainRainRainRainRainRainRainCloudsSnowSnowRainSnowSnowHazeSnowCloudsCloudsCloudsCloudsCloudsCloudsClearClearClearCloudsCloudsCloudsSnowHazeSnowSnowSnowHazeSnowHazeHazeSnowHazeHazeHazeCloudsClearClearCloudsCloudsCloudsClearClearClearClearClearClearClearClearCloudsClearCloudsCloudsCloudsCloudsCloudsCloudsCloudsRainCloudsSnowRainRainSnowMistCloudsCloudsCloudsSnowSnowHazeCloudsCloudsCloudsCloudsCloudsCloudsSnowMistCloudsCloudsCloudsCloudsCloudsCloudsCloudsCloudsCloudsCloudsCloudsClearClearClearClearClearClearClearClearClearClearClearClearClearClearClearClearClearClearCloudsCloudsCloudsCloudsCloudsClearCloudsCloudsCloudsCloudsCloudsCloudsCloudsRainCloudsCloudsCloudsRainRainRainRainRainRainRainRainClearClearClearClearClearClearClearClearClearClearRainRainClearClearClearClearClearCloudsCloudsCloudsClearClearClearClearClearClearClearClearClearClearClearClearClearCloudsCloudsCloudsCloudsCloudsCloudsClearMistFogFogMistFogMistSnowMistSnowClearClearClearCloudsCloudsClearClearCloudsClearCloudsClearClearClearClearClearClearCloudsRainCloudsHazeSnowMistSnowMistRainSnowMistSnowSnowMistMistSnowSnowMistSnowMistMistSnowMistSnowMistSnowMistSnowSnowMistSnowMistSnowMistCloudsCloudsSnowHazeMistSnowHazeCloudsCloudsClearClearClearClearClearClearClearClearHazeSnowHazeMistSnowSnowSnowHazeMistSnowClearClearClearClearClearClearCloudsSnowHazeCloudsCloudsHazeHazeHazeMistHazeMistHazeMistMistHazeHazeMistMistHazeMistSnowSnowCloudsCloudsClearClearCloudsCloudsCloudsSnowHazeSnowHazeHazeClearClearClearClearClearClearClearClearClearClearClearCloudsCloudsCloudsCloudsCloudsCloudsCloudsClearClearClearClearCloudsCloudsCloudsSnowMistSnowMistHazeSnowMistHazeMistSnowMistHazeMistHazeHazeMistMistHazeMistHazeSnowHazeMistSnowHazeMistSnowHazeMistSnowHazeMistSnowHazeSnowMistSnowHazeSnowSnowHazeSnowCloudsCloudsCloudsSnowHazeSnowCloudsCloudsHazeHazeMistSnowMistSnowSnowMistSnowMistMistSnowHazeHazeMistMistFogSnowMistFogMistFogMistHazeMistRainMistRainSnowSnowMistHazeSnowSnowSnowHazeCloudsSnowCloudsSnowMistCloudsCloudsCloudsCloudsCloudsCloudsCloudsCloudsCloudsCloudsCloudsCloudsCloudsClearCloudsCloudsCloudsCloudsCloudsClearCloudsCloudsCloudsCloudsClearClearCloudsRainDrizzleCloudsMistFogMistFogClearCloudsClearCloudsClearCloudsClearCloudsClearClearCloudsCloudsCloudsCloudsCloudsClearCloudsCloudsCloudsCloudsSnowSnowSnowSnowMistSnowHazeMistHazeSnowMistRainMistHazeSnowDrizzleMistSnowMistSnowCloudsCloudsSnowSnowSnowSnowCloudsHazeClearClearClearClearClearHazeSnowHazeHazeClearClearClearClearClearClearClearCloudsMistMistMistMistClearClearCloudsHazeHazeCloudsCloudsCloudsHazeClearClearClearClearClearClearClearCloudsCloudsCloudsCloudsClearCloudsClearClearHazeClearClearClearClearClearClearClearClearSnowSnowClearClearCloudsClearCloudsSnowSnowSnowSnowCloudsCloudsCloudsSnowSnowSnowSnowMistHazeSnowMistSnowMistFogSnowMistSnowMistHazeHazeSnowMistSnowSnowMistSnowMistFogSnowMistSnowFogMistSnowMistSnowMistSnowFogHazeHazeSnowMistHazeHazeClearSnowMistSnowMistSnowMistSnowMistSnowHazeSnowSnowCloudsClearClearClearClearHazeCloudsHazeClearClearSnowSnowHazeSnowSnowHazeHazeClearCloudsCloudsCloudsClearCloudsCloudsCloudsCloudsCloudsSnowSnowCloudsCloudsClearClearSnowClearClearClearClearClearClearClearClearClearMistMistSnowClearClearClearClearCloudsClearClearCloudsClearCloudsMistHazeMistMistHazeMistHazeHazeMistHazeMistHazeMistHazeMistHazeHazeHazeCloudsMistDrizzleMistMistHazeFogHazeMistFogHazeMistMistHazeMistHazeMistHazeMistMistMistMistMistHazeHazeMistMistHazeMistHazeClearClearClearClearClearClearClearClearMistFogMistHazeMistHazeFogMistHazeHazeMistMistMistMistHazeMistMistCloudsCloudsMistDrizzleFogRainDrizzleMistSnowDrizzleMistRainSnowDrizzleMistMistMistMistMistFogMistFogMistMistFogMistFogMistRainFogDrizzleMistDrizzleRainDrizzleMistRainDrizzleMistFogRainDrizzleMistMistRainDrizzleMistRainMistFogMistFogRainMistFogDrizzleMistFogDrizzleMistFogMistFogMistFogMistFogMistFogMistMistMistMistCloudsCloudsMistMistDrizzleMistSnowDrizzleMistSnowMistSnowMistSnowRainMistRainMistMistSnowRainMistSnowMistMistHazeMistMistMistCloudsCloudsCloudsClearClearClearCloudsCloudsCloudsCloudsCloudsCloudsCloudsCloudsSnowMistSnowMistSnowMistHazeSnowMistCloudsCloudsCloudsCloudsCloudsCloudsCloudsCloudsCloudsCloudsCloudsCloudsCloudsCloudsCloudsCloudsSnowCloudsCloudsCloudsCloudsClearCloudsCloudsCloudsClearClearClearClearCloudsHazeCloudsCloudsCloudsCloudsCloudsCloudsCloudsCloudsCloudsCloudsCloudsSnowSnowCloudsCloudsClearClearCloudsClearCloudsCloudsCloudsSnowSnowMistSnowMistMistSnowMistHazeMistMistHazeMistMistMistMistMistCloudsCloudsCloudsSnowSnowCloudsCloudsSnowSnowSnowRainSnowRainSnowClearClearClearClearClearClearClearClearClearClearClearClearClearClearClearClearCloudsCloudsCloudsCloudsClearSnowMistSnowMistSnowHazeCloudsClearClearClearCloudsCloudsCloudsCloudsClearClearClearClearCloudsCloudsCloudsCloudsCloudsCloudsCloudsCloudsCloudsCloudsCloudsCloudsClearClearHazeClearClearCloudsCloudsClearCloudsClearCloudsCloudsClearHazeMistMistCloudsCloudsClearCloudsCloudsCloudsClearCloudsCloudsCloudsClearCloudsClearCloudsCloudsCloudsCloudsCloudsCloudsCloudsClearClearCloudsClearCloudsClearCloudsClearCloudsCloudsCloudsCloudsCloudsCloudsCloudsCloudsCloudsCloudsCloudsCloudsCloudsCloudsCloudsCloudsMistHazeMistHazeMistHazeMistHazeMistMistMistHazeMistHazeMistMistHazeMistHazeDrizzleMistSnowMistSnowMistSnowMistSnowMistSnowMistSnowMistSnowMistSnowMistSnowMistSnowSnowHazeSnowClearClearClearClearClearClearClearClearClearClearClearClearClearClearClearClearClearClearClearClearClearClearClearClearCloudsCloudsSnowSnowMistSnowMistSnowHazeSnowHazeSnowMistSnowFogSnowMistFogSnowMistFogSnowMistSnowMistHazeSnowMistSnowHazeHazeSnowHazeSnowSnowHazeSnowHazeHazeSnowHazeSnowHazeSnowSnowSnowSnowSnowMistSnowSnowMistClearClearClearClearClearClearClearClearCloudsCloudsCloudsClearClearCloudsClearClearClearClearClearClearCloudsCloudsClearClearClearClearCloudsCloudsCloudsCloudsCloudsCloudsCloudsClearCloudsCloudsCloudsCloudsCloudsCloudsCloudsCloudsCloudsMistCloudsCloudsMistCloudsCloudsCloudsCloudsCloudsCloudsCloudsClearMistMistCloudsCloudsCloudsCloudsCloudsCloudsCloudsCloudsCloudsCloudsSnowSnowSnowSnowMistSnowMistFogSnowMistFogSnowFogMistSnowFogSnowFogSnowFogSnowFogSnowFogMistCloudsCloudsCloudsCloudsCloudsClearCloudsClearCloudsClearHazeCloudsCloudsSnowMistMistMistMistMistMistHazeCloudsMistMistMistFogMistFogMistFogMistFogSnowMistSnowMistMistMistSnowMistMistMistHazeMistHazeSnowCloudsCloudsClearClearCloudsCloudsCloudsCloudsCloudsClearCloudsCloudsClearClearClearClearCloudsClearCloudsCloudsCloudsClearClearClearSnowSnowSnowSnowSnowSnowHazeSnowSnowSnowSnowSnowSnowClearClearCloudsClearClearClearClearClearClearClearClearClearSnowSnowCloudsCloudsCloudsCloudsCloudsClearCloudsClearClearClearClearClearClearClearSnowClearClearClearClearCloudsCloudsClouds'",
      "\nDuring handling of the above exception, another exception occurred:\n",
      "\u001b[1;31mValueError\u001b[0m                                Traceback (most recent call last)",
      "File \u001b[1;32mc:\\Users\\lenovo\\AppData\\Local\\Programs\\Python\\Python311\\Lib\\site-packages\\pandas\\core\\nanops.py:1696\u001b[0m, in \u001b[0;36m_ensure_numeric\u001b[1;34m(x)\u001b[0m\n\u001b[0;32m   1695\u001b[0m \u001b[39mtry\u001b[39;00m:\n\u001b[1;32m-> 1696\u001b[0m     x \u001b[39m=\u001b[39m \u001b[39mcomplex\u001b[39;49m(x)\n\u001b[0;32m   1697\u001b[0m \u001b[39mexcept\u001b[39;00m \u001b[39mValueError\u001b[39;00m \u001b[39mas\u001b[39;00m err:\n\u001b[0;32m   1698\u001b[0m     \u001b[39m# e.g. \"foo\"\u001b[39;00m\n",
      "\u001b[1;31mValueError\u001b[0m: complex() arg is a malformed string",
      "\nThe above exception was the direct cause of the following exception:\n",
      "\u001b[1;31mTypeError\u001b[0m                                 Traceback (most recent call last)",
      "Cell \u001b[1;32mIn[12], line 2\u001b[0m\n\u001b[0;32m      1\u001b[0m day[\u001b[39m'\u001b[39m\u001b[39mmonth\u001b[39m\u001b[39m'\u001b[39m] \u001b[39m=\u001b[39m day[\u001b[39m'\u001b[39m\u001b[39mdate_time\u001b[39m\u001b[39m'\u001b[39m]\u001b[39m.\u001b[39mdt\u001b[39m.\u001b[39mmonth\n\u001b[1;32m----> 2\u001b[0m by_month \u001b[39m=\u001b[39m day\u001b[39m.\u001b[39;49mgroupby(\u001b[39m'\u001b[39;49m\u001b[39mmonth\u001b[39;49m\u001b[39m'\u001b[39;49m)\u001b[39m.\u001b[39;49mmean()\n\u001b[0;32m      3\u001b[0m by_month[\u001b[39m'\u001b[39m\u001b[39mtraffic_volume\u001b[39m\u001b[39m'\u001b[39m]\n",
      "File \u001b[1;32mc:\\Users\\lenovo\\AppData\\Local\\Programs\\Python\\Python311\\Lib\\site-packages\\pandas\\core\\groupby\\groupby.py:1855\u001b[0m, in \u001b[0;36mGroupBy.mean\u001b[1;34m(self, numeric_only, engine, engine_kwargs)\u001b[0m\n\u001b[0;32m   1853\u001b[0m     \u001b[39mreturn\u001b[39;00m \u001b[39mself\u001b[39m\u001b[39m.\u001b[39m_numba_agg_general(sliding_mean, engine_kwargs)\n\u001b[0;32m   1854\u001b[0m \u001b[39melse\u001b[39;00m:\n\u001b[1;32m-> 1855\u001b[0m     result \u001b[39m=\u001b[39m \u001b[39mself\u001b[39;49m\u001b[39m.\u001b[39;49m_cython_agg_general(\n\u001b[0;32m   1856\u001b[0m         \u001b[39m\"\u001b[39;49m\u001b[39mmean\u001b[39;49m\u001b[39m\"\u001b[39;49m,\n\u001b[0;32m   1857\u001b[0m         alt\u001b[39m=\u001b[39;49m\u001b[39mlambda\u001b[39;49;00m x: Series(x)\u001b[39m.\u001b[39;49mmean(numeric_only\u001b[39m=\u001b[39;49mnumeric_only),\n\u001b[0;32m   1858\u001b[0m         numeric_only\u001b[39m=\u001b[39;49mnumeric_only,\n\u001b[0;32m   1859\u001b[0m     )\n\u001b[0;32m   1860\u001b[0m     \u001b[39mreturn\u001b[39;00m result\u001b[39m.\u001b[39m__finalize__(\u001b[39mself\u001b[39m\u001b[39m.\u001b[39mobj, method\u001b[39m=\u001b[39m\u001b[39m\"\u001b[39m\u001b[39mgroupby\u001b[39m\u001b[39m\"\u001b[39m)\n",
      "File \u001b[1;32mc:\\Users\\lenovo\\AppData\\Local\\Programs\\Python\\Python311\\Lib\\site-packages\\pandas\\core\\groupby\\groupby.py:1507\u001b[0m, in \u001b[0;36mGroupBy._cython_agg_general\u001b[1;34m(self, how, alt, numeric_only, min_count, **kwargs)\u001b[0m\n\u001b[0;32m   1503\u001b[0m         result \u001b[39m=\u001b[39m \u001b[39mself\u001b[39m\u001b[39m.\u001b[39m_agg_py_fallback(values, ndim\u001b[39m=\u001b[39mdata\u001b[39m.\u001b[39mndim, alt\u001b[39m=\u001b[39malt)\n\u001b[0;32m   1505\u001b[0m     \u001b[39mreturn\u001b[39;00m result\n\u001b[1;32m-> 1507\u001b[0m new_mgr \u001b[39m=\u001b[39m data\u001b[39m.\u001b[39;49mgrouped_reduce(array_func)\n\u001b[0;32m   1508\u001b[0m res \u001b[39m=\u001b[39m \u001b[39mself\u001b[39m\u001b[39m.\u001b[39m_wrap_agged_manager(new_mgr)\n\u001b[0;32m   1509\u001b[0m out \u001b[39m=\u001b[39m \u001b[39mself\u001b[39m\u001b[39m.\u001b[39m_wrap_aggregated_output(res)\n",
      "File \u001b[1;32mc:\\Users\\lenovo\\AppData\\Local\\Programs\\Python\\Python311\\Lib\\site-packages\\pandas\\core\\internals\\managers.py:1503\u001b[0m, in \u001b[0;36mBlockManager.grouped_reduce\u001b[1;34m(self, func)\u001b[0m\n\u001b[0;32m   1499\u001b[0m \u001b[39mif\u001b[39;00m blk\u001b[39m.\u001b[39mis_object:\n\u001b[0;32m   1500\u001b[0m     \u001b[39m# split on object-dtype blocks bc some columns may raise\u001b[39;00m\n\u001b[0;32m   1501\u001b[0m     \u001b[39m#  while others do not.\u001b[39;00m\n\u001b[0;32m   1502\u001b[0m     \u001b[39mfor\u001b[39;00m sb \u001b[39min\u001b[39;00m blk\u001b[39m.\u001b[39m_split():\n\u001b[1;32m-> 1503\u001b[0m         applied \u001b[39m=\u001b[39m sb\u001b[39m.\u001b[39;49mapply(func)\n\u001b[0;32m   1504\u001b[0m         result_blocks \u001b[39m=\u001b[39m extend_blocks(applied, result_blocks)\n\u001b[0;32m   1505\u001b[0m \u001b[39melse\u001b[39;00m:\n",
      "File \u001b[1;32mc:\\Users\\lenovo\\AppData\\Local\\Programs\\Python\\Python311\\Lib\\site-packages\\pandas\\core\\internals\\blocks.py:329\u001b[0m, in \u001b[0;36mBlock.apply\u001b[1;34m(self, func, **kwargs)\u001b[0m\n\u001b[0;32m    323\u001b[0m \u001b[39m@final\u001b[39m\n\u001b[0;32m    324\u001b[0m \u001b[39mdef\u001b[39;00m \u001b[39mapply\u001b[39m(\u001b[39mself\u001b[39m, func, \u001b[39m*\u001b[39m\u001b[39m*\u001b[39mkwargs) \u001b[39m-\u001b[39m\u001b[39m>\u001b[39m \u001b[39mlist\u001b[39m[Block]:\n\u001b[0;32m    325\u001b[0m \u001b[39m    \u001b[39m\u001b[39m\"\"\"\u001b[39;00m\n\u001b[0;32m    326\u001b[0m \u001b[39m    apply the function to my values; return a block if we are not\u001b[39;00m\n\u001b[0;32m    327\u001b[0m \u001b[39m    one\u001b[39;00m\n\u001b[0;32m    328\u001b[0m \u001b[39m    \"\"\"\u001b[39;00m\n\u001b[1;32m--> 329\u001b[0m     result \u001b[39m=\u001b[39m func(\u001b[39mself\u001b[39;49m\u001b[39m.\u001b[39;49mvalues, \u001b[39m*\u001b[39;49m\u001b[39m*\u001b[39;49mkwargs)\n\u001b[0;32m    331\u001b[0m     \u001b[39mreturn\u001b[39;00m \u001b[39mself\u001b[39m\u001b[39m.\u001b[39m_split_op_result(result)\n",
      "File \u001b[1;32mc:\\Users\\lenovo\\AppData\\Local\\Programs\\Python\\Python311\\Lib\\site-packages\\pandas\\core\\groupby\\groupby.py:1503\u001b[0m, in \u001b[0;36mGroupBy._cython_agg_general.<locals>.array_func\u001b[1;34m(values)\u001b[0m\n\u001b[0;32m   1490\u001b[0m     result \u001b[39m=\u001b[39m \u001b[39mself\u001b[39m\u001b[39m.\u001b[39mgrouper\u001b[39m.\u001b[39m_cython_operation(\n\u001b[0;32m   1491\u001b[0m         \u001b[39m\"\u001b[39m\u001b[39maggregate\u001b[39m\u001b[39m\"\u001b[39m,\n\u001b[0;32m   1492\u001b[0m         values,\n\u001b[1;32m   (...)\u001b[0m\n\u001b[0;32m   1496\u001b[0m         \u001b[39m*\u001b[39m\u001b[39m*\u001b[39mkwargs,\n\u001b[0;32m   1497\u001b[0m     )\n\u001b[0;32m   1498\u001b[0m \u001b[39mexcept\u001b[39;00m \u001b[39mNotImplementedError\u001b[39;00m:\n\u001b[0;32m   1499\u001b[0m     \u001b[39m# generally if we have numeric_only=False\u001b[39;00m\n\u001b[0;32m   1500\u001b[0m     \u001b[39m# and non-applicable functions\u001b[39;00m\n\u001b[0;32m   1501\u001b[0m     \u001b[39m# try to python agg\u001b[39;00m\n\u001b[0;32m   1502\u001b[0m     \u001b[39m# TODO: shouldn't min_count matter?\u001b[39;00m\n\u001b[1;32m-> 1503\u001b[0m     result \u001b[39m=\u001b[39m \u001b[39mself\u001b[39;49m\u001b[39m.\u001b[39;49m_agg_py_fallback(values, ndim\u001b[39m=\u001b[39;49mdata\u001b[39m.\u001b[39;49mndim, alt\u001b[39m=\u001b[39;49malt)\n\u001b[0;32m   1505\u001b[0m \u001b[39mreturn\u001b[39;00m result\n",
      "File \u001b[1;32mc:\\Users\\lenovo\\AppData\\Local\\Programs\\Python\\Python311\\Lib\\site-packages\\pandas\\core\\groupby\\groupby.py:1457\u001b[0m, in \u001b[0;36mGroupBy._agg_py_fallback\u001b[1;34m(self, values, ndim, alt)\u001b[0m\n\u001b[0;32m   1452\u001b[0m     ser \u001b[39m=\u001b[39m df\u001b[39m.\u001b[39miloc[:, \u001b[39m0\u001b[39m]\n\u001b[0;32m   1454\u001b[0m \u001b[39m# We do not get here with UDFs, so we know that our dtype\u001b[39;00m\n\u001b[0;32m   1455\u001b[0m \u001b[39m#  should always be preserved by the implemented aggregations\u001b[39;00m\n\u001b[0;32m   1456\u001b[0m \u001b[39m# TODO: Is this exactly right; see WrappedCythonOp get_result_dtype?\u001b[39;00m\n\u001b[1;32m-> 1457\u001b[0m res_values \u001b[39m=\u001b[39m \u001b[39mself\u001b[39;49m\u001b[39m.\u001b[39;49mgrouper\u001b[39m.\u001b[39;49magg_series(ser, alt, preserve_dtype\u001b[39m=\u001b[39;49m\u001b[39mTrue\u001b[39;49;00m)\n\u001b[0;32m   1459\u001b[0m \u001b[39mif\u001b[39;00m \u001b[39misinstance\u001b[39m(values, Categorical):\n\u001b[0;32m   1460\u001b[0m     \u001b[39m# Because we only get here with known dtype-preserving\u001b[39;00m\n\u001b[0;32m   1461\u001b[0m     \u001b[39m#  reductions, we cast back to Categorical.\u001b[39;00m\n\u001b[0;32m   1462\u001b[0m     \u001b[39m# TODO: if we ever get \"rank\" working, exclude it here.\u001b[39;00m\n\u001b[0;32m   1463\u001b[0m     res_values \u001b[39m=\u001b[39m \u001b[39mtype\u001b[39m(values)\u001b[39m.\u001b[39m_from_sequence(res_values, dtype\u001b[39m=\u001b[39mvalues\u001b[39m.\u001b[39mdtype)\n",
      "File \u001b[1;32mc:\\Users\\lenovo\\AppData\\Local\\Programs\\Python\\Python311\\Lib\\site-packages\\pandas\\core\\groupby\\ops.py:994\u001b[0m, in \u001b[0;36mBaseGrouper.agg_series\u001b[1;34m(self, obj, func, preserve_dtype)\u001b[0m\n\u001b[0;32m    987\u001b[0m \u001b[39mif\u001b[39;00m \u001b[39mlen\u001b[39m(obj) \u001b[39m>\u001b[39m \u001b[39m0\u001b[39m \u001b[39mand\u001b[39;00m \u001b[39mnot\u001b[39;00m \u001b[39misinstance\u001b[39m(obj\u001b[39m.\u001b[39m_values, np\u001b[39m.\u001b[39mndarray):\n\u001b[0;32m    988\u001b[0m     \u001b[39m# we can preserve a little bit more aggressively with EA dtype\u001b[39;00m\n\u001b[0;32m    989\u001b[0m     \u001b[39m#  because maybe_cast_pointwise_result will do a try/except\u001b[39;00m\n\u001b[0;32m    990\u001b[0m     \u001b[39m#  with _from_sequence.  NB we are assuming here that _from_sequence\u001b[39;00m\n\u001b[0;32m    991\u001b[0m     \u001b[39m#  is sufficiently strict that it casts appropriately.\u001b[39;00m\n\u001b[0;32m    992\u001b[0m     preserve_dtype \u001b[39m=\u001b[39m \u001b[39mTrue\u001b[39;00m\n\u001b[1;32m--> 994\u001b[0m result \u001b[39m=\u001b[39m \u001b[39mself\u001b[39;49m\u001b[39m.\u001b[39;49m_aggregate_series_pure_python(obj, func)\n\u001b[0;32m    996\u001b[0m npvalues \u001b[39m=\u001b[39m lib\u001b[39m.\u001b[39mmaybe_convert_objects(result, try_float\u001b[39m=\u001b[39m\u001b[39mFalse\u001b[39;00m)\n\u001b[0;32m    997\u001b[0m \u001b[39mif\u001b[39;00m preserve_dtype:\n",
      "File \u001b[1;32mc:\\Users\\lenovo\\AppData\\Local\\Programs\\Python\\Python311\\Lib\\site-packages\\pandas\\core\\groupby\\ops.py:1015\u001b[0m, in \u001b[0;36mBaseGrouper._aggregate_series_pure_python\u001b[1;34m(self, obj, func)\u001b[0m\n\u001b[0;32m   1012\u001b[0m splitter \u001b[39m=\u001b[39m \u001b[39mself\u001b[39m\u001b[39m.\u001b[39m_get_splitter(obj, axis\u001b[39m=\u001b[39m\u001b[39m0\u001b[39m)\n\u001b[0;32m   1014\u001b[0m \u001b[39mfor\u001b[39;00m i, group \u001b[39min\u001b[39;00m \u001b[39menumerate\u001b[39m(splitter):\n\u001b[1;32m-> 1015\u001b[0m     res \u001b[39m=\u001b[39m func(group)\n\u001b[0;32m   1016\u001b[0m     res \u001b[39m=\u001b[39m libreduction\u001b[39m.\u001b[39mextract_result(res)\n\u001b[0;32m   1018\u001b[0m     \u001b[39mif\u001b[39;00m \u001b[39mnot\u001b[39;00m initialized:\n\u001b[0;32m   1019\u001b[0m         \u001b[39m# We only do this validation on the first iteration\u001b[39;00m\n",
      "File \u001b[1;32mc:\\Users\\lenovo\\AppData\\Local\\Programs\\Python\\Python311\\Lib\\site-packages\\pandas\\core\\groupby\\groupby.py:1857\u001b[0m, in \u001b[0;36mGroupBy.mean.<locals>.<lambda>\u001b[1;34m(x)\u001b[0m\n\u001b[0;32m   1853\u001b[0m     \u001b[39mreturn\u001b[39;00m \u001b[39mself\u001b[39m\u001b[39m.\u001b[39m_numba_agg_general(sliding_mean, engine_kwargs)\n\u001b[0;32m   1854\u001b[0m \u001b[39melse\u001b[39;00m:\n\u001b[0;32m   1855\u001b[0m     result \u001b[39m=\u001b[39m \u001b[39mself\u001b[39m\u001b[39m.\u001b[39m_cython_agg_general(\n\u001b[0;32m   1856\u001b[0m         \u001b[39m\"\u001b[39m\u001b[39mmean\u001b[39m\u001b[39m\"\u001b[39m,\n\u001b[1;32m-> 1857\u001b[0m         alt\u001b[39m=\u001b[39m\u001b[39mlambda\u001b[39;00m x: Series(x)\u001b[39m.\u001b[39;49mmean(numeric_only\u001b[39m=\u001b[39;49mnumeric_only),\n\u001b[0;32m   1858\u001b[0m         numeric_only\u001b[39m=\u001b[39mnumeric_only,\n\u001b[0;32m   1859\u001b[0m     )\n\u001b[0;32m   1860\u001b[0m     \u001b[39mreturn\u001b[39;00m result\u001b[39m.\u001b[39m__finalize__(\u001b[39mself\u001b[39m\u001b[39m.\u001b[39mobj, method\u001b[39m=\u001b[39m\u001b[39m\"\u001b[39m\u001b[39mgroupby\u001b[39m\u001b[39m\"\u001b[39m)\n",
      "File \u001b[1;32mc:\\Users\\lenovo\\AppData\\Local\\Programs\\Python\\Python311\\Lib\\site-packages\\pandas\\core\\generic.py:11556\u001b[0m, in \u001b[0;36mNDFrame._add_numeric_operations.<locals>.mean\u001b[1;34m(self, axis, skipna, numeric_only, **kwargs)\u001b[0m\n\u001b[0;32m  11539\u001b[0m \u001b[39m@doc\u001b[39m(\n\u001b[0;32m  11540\u001b[0m     _num_doc,\n\u001b[0;32m  11541\u001b[0m     desc\u001b[39m=\u001b[39m\u001b[39m\"\u001b[39m\u001b[39mReturn the mean of the values over the requested axis.\u001b[39m\u001b[39m\"\u001b[39m,\n\u001b[1;32m   (...)\u001b[0m\n\u001b[0;32m  11554\u001b[0m     \u001b[39m*\u001b[39m\u001b[39m*\u001b[39mkwargs,\n\u001b[0;32m  11555\u001b[0m ):\n\u001b[1;32m> 11556\u001b[0m     \u001b[39mreturn\u001b[39;00m NDFrame\u001b[39m.\u001b[39;49mmean(\u001b[39mself\u001b[39;49m, axis, skipna, numeric_only, \u001b[39m*\u001b[39;49m\u001b[39m*\u001b[39;49mkwargs)\n",
      "File \u001b[1;32mc:\\Users\\lenovo\\AppData\\Local\\Programs\\Python\\Python311\\Lib\\site-packages\\pandas\\core\\generic.py:11201\u001b[0m, in \u001b[0;36mNDFrame.mean\u001b[1;34m(self, axis, skipna, numeric_only, **kwargs)\u001b[0m\n\u001b[0;32m  11194\u001b[0m \u001b[39mdef\u001b[39;00m \u001b[39mmean\u001b[39m(\n\u001b[0;32m  11195\u001b[0m     \u001b[39mself\u001b[39m,\n\u001b[0;32m  11196\u001b[0m     axis: Axis \u001b[39m|\u001b[39m \u001b[39mNone\u001b[39;00m \u001b[39m=\u001b[39m \u001b[39m0\u001b[39m,\n\u001b[1;32m   (...)\u001b[0m\n\u001b[0;32m  11199\u001b[0m     \u001b[39m*\u001b[39m\u001b[39m*\u001b[39mkwargs,\n\u001b[0;32m  11200\u001b[0m ) \u001b[39m-\u001b[39m\u001b[39m>\u001b[39m Series \u001b[39m|\u001b[39m \u001b[39mfloat\u001b[39m:\n\u001b[1;32m> 11201\u001b[0m     \u001b[39mreturn\u001b[39;00m \u001b[39mself\u001b[39;49m\u001b[39m.\u001b[39;49m_stat_function(\n\u001b[0;32m  11202\u001b[0m         \u001b[39m\"\u001b[39;49m\u001b[39mmean\u001b[39;49m\u001b[39m\"\u001b[39;49m, nanops\u001b[39m.\u001b[39;49mnanmean, axis, skipna, numeric_only, \u001b[39m*\u001b[39;49m\u001b[39m*\u001b[39;49mkwargs\n\u001b[0;32m  11203\u001b[0m     )\n",
      "File \u001b[1;32mc:\\Users\\lenovo\\AppData\\Local\\Programs\\Python\\Python311\\Lib\\site-packages\\pandas\\core\\generic.py:11158\u001b[0m, in \u001b[0;36mNDFrame._stat_function\u001b[1;34m(self, name, func, axis, skipna, numeric_only, **kwargs)\u001b[0m\n\u001b[0;32m  11154\u001b[0m     nv\u001b[39m.\u001b[39mvalidate_stat_func((), kwargs, fname\u001b[39m=\u001b[39mname)\n\u001b[0;32m  11156\u001b[0m validate_bool_kwarg(skipna, \u001b[39m\"\u001b[39m\u001b[39mskipna\u001b[39m\u001b[39m\"\u001b[39m, none_allowed\u001b[39m=\u001b[39m\u001b[39mFalse\u001b[39;00m)\n\u001b[1;32m> 11158\u001b[0m \u001b[39mreturn\u001b[39;00m \u001b[39mself\u001b[39;49m\u001b[39m.\u001b[39;49m_reduce(\n\u001b[0;32m  11159\u001b[0m     func, name\u001b[39m=\u001b[39;49mname, axis\u001b[39m=\u001b[39;49maxis, skipna\u001b[39m=\u001b[39;49mskipna, numeric_only\u001b[39m=\u001b[39;49mnumeric_only\n\u001b[0;32m  11160\u001b[0m )\n",
      "File \u001b[1;32mc:\\Users\\lenovo\\AppData\\Local\\Programs\\Python\\Python311\\Lib\\site-packages\\pandas\\core\\series.py:4670\u001b[0m, in \u001b[0;36mSeries._reduce\u001b[1;34m(self, op, name, axis, skipna, numeric_only, filter_type, **kwds)\u001b[0m\n\u001b[0;32m   4665\u001b[0m     \u001b[39mraise\u001b[39;00m \u001b[39mTypeError\u001b[39;00m(\n\u001b[0;32m   4666\u001b[0m         \u001b[39mf\u001b[39m\u001b[39m\"\u001b[39m\u001b[39mSeries.\u001b[39m\u001b[39m{\u001b[39;00mname\u001b[39m}\u001b[39;00m\u001b[39m does not allow \u001b[39m\u001b[39m{\u001b[39;00mkwd_name\u001b[39m}\u001b[39;00m\u001b[39m=\u001b[39m\u001b[39m{\u001b[39;00mnumeric_only\u001b[39m}\u001b[39;00m\u001b[39m \u001b[39m\u001b[39m\"\u001b[39m\n\u001b[0;32m   4667\u001b[0m         \u001b[39m\"\u001b[39m\u001b[39mwith non-numeric dtypes.\u001b[39m\u001b[39m\"\u001b[39m\n\u001b[0;32m   4668\u001b[0m     )\n\u001b[0;32m   4669\u001b[0m \u001b[39mwith\u001b[39;00m np\u001b[39m.\u001b[39merrstate(\u001b[39mall\u001b[39m\u001b[39m=\u001b[39m\u001b[39m\"\u001b[39m\u001b[39mignore\u001b[39m\u001b[39m\"\u001b[39m):\n\u001b[1;32m-> 4670\u001b[0m     \u001b[39mreturn\u001b[39;00m op(delegate, skipna\u001b[39m=\u001b[39;49mskipna, \u001b[39m*\u001b[39;49m\u001b[39m*\u001b[39;49mkwds)\n",
      "File \u001b[1;32mc:\\Users\\lenovo\\AppData\\Local\\Programs\\Python\\Python311\\Lib\\site-packages\\pandas\\core\\nanops.py:96\u001b[0m, in \u001b[0;36mdisallow.__call__.<locals>._f\u001b[1;34m(*args, **kwargs)\u001b[0m\n\u001b[0;32m     94\u001b[0m \u001b[39mtry\u001b[39;00m:\n\u001b[0;32m     95\u001b[0m     \u001b[39mwith\u001b[39;00m np\u001b[39m.\u001b[39merrstate(invalid\u001b[39m=\u001b[39m\u001b[39m\"\u001b[39m\u001b[39mignore\u001b[39m\u001b[39m\"\u001b[39m):\n\u001b[1;32m---> 96\u001b[0m         \u001b[39mreturn\u001b[39;00m f(\u001b[39m*\u001b[39;49margs, \u001b[39m*\u001b[39;49m\u001b[39m*\u001b[39;49mkwargs)\n\u001b[0;32m     97\u001b[0m \u001b[39mexcept\u001b[39;00m \u001b[39mValueError\u001b[39;00m \u001b[39mas\u001b[39;00m e:\n\u001b[0;32m     98\u001b[0m     \u001b[39m# we want to transform an object array\u001b[39;00m\n\u001b[0;32m     99\u001b[0m     \u001b[39m# ValueError message to the more typical TypeError\u001b[39;00m\n\u001b[0;32m    100\u001b[0m     \u001b[39m# e.g. this is normally a disallowed function on\u001b[39;00m\n\u001b[0;32m    101\u001b[0m     \u001b[39m# object arrays that contain strings\u001b[39;00m\n\u001b[0;32m    102\u001b[0m     \u001b[39mif\u001b[39;00m is_object_dtype(args[\u001b[39m0\u001b[39m]):\n",
      "File \u001b[1;32mc:\\Users\\lenovo\\AppData\\Local\\Programs\\Python\\Python311\\Lib\\site-packages\\pandas\\core\\nanops.py:158\u001b[0m, in \u001b[0;36mbottleneck_switch.__call__.<locals>.f\u001b[1;34m(values, axis, skipna, **kwds)\u001b[0m\n\u001b[0;32m    156\u001b[0m         result \u001b[39m=\u001b[39m alt(values, axis\u001b[39m=\u001b[39maxis, skipna\u001b[39m=\u001b[39mskipna, \u001b[39m*\u001b[39m\u001b[39m*\u001b[39mkwds)\n\u001b[0;32m    157\u001b[0m \u001b[39melse\u001b[39;00m:\n\u001b[1;32m--> 158\u001b[0m     result \u001b[39m=\u001b[39m alt(values, axis\u001b[39m=\u001b[39;49maxis, skipna\u001b[39m=\u001b[39;49mskipna, \u001b[39m*\u001b[39;49m\u001b[39m*\u001b[39;49mkwds)\n\u001b[0;32m    160\u001b[0m \u001b[39mreturn\u001b[39;00m result\n",
      "File \u001b[1;32mc:\\Users\\lenovo\\AppData\\Local\\Programs\\Python\\Python311\\Lib\\site-packages\\pandas\\core\\nanops.py:421\u001b[0m, in \u001b[0;36m_datetimelike_compat.<locals>.new_func\u001b[1;34m(values, axis, skipna, mask, **kwargs)\u001b[0m\n\u001b[0;32m    418\u001b[0m \u001b[39mif\u001b[39;00m datetimelike \u001b[39mand\u001b[39;00m mask \u001b[39mis\u001b[39;00m \u001b[39mNone\u001b[39;00m:\n\u001b[0;32m    419\u001b[0m     mask \u001b[39m=\u001b[39m isna(values)\n\u001b[1;32m--> 421\u001b[0m result \u001b[39m=\u001b[39m func(values, axis\u001b[39m=\u001b[39;49maxis, skipna\u001b[39m=\u001b[39;49mskipna, mask\u001b[39m=\u001b[39;49mmask, \u001b[39m*\u001b[39;49m\u001b[39m*\u001b[39;49mkwargs)\n\u001b[0;32m    423\u001b[0m \u001b[39mif\u001b[39;00m datetimelike:\n\u001b[0;32m    424\u001b[0m     result \u001b[39m=\u001b[39m _wrap_results(result, orig_values\u001b[39m.\u001b[39mdtype, fill_value\u001b[39m=\u001b[39miNaT)\n",
      "File \u001b[1;32mc:\\Users\\lenovo\\AppData\\Local\\Programs\\Python\\Python311\\Lib\\site-packages\\pandas\\core\\nanops.py:727\u001b[0m, in \u001b[0;36mnanmean\u001b[1;34m(values, axis, skipna, mask)\u001b[0m\n\u001b[0;32m    724\u001b[0m     dtype_count \u001b[39m=\u001b[39m dtype\n\u001b[0;32m    726\u001b[0m count \u001b[39m=\u001b[39m _get_counts(values\u001b[39m.\u001b[39mshape, mask, axis, dtype\u001b[39m=\u001b[39mdtype_count)\n\u001b[1;32m--> 727\u001b[0m the_sum \u001b[39m=\u001b[39m _ensure_numeric(values\u001b[39m.\u001b[39;49msum(axis, dtype\u001b[39m=\u001b[39;49mdtype_sum))\n\u001b[0;32m    729\u001b[0m \u001b[39mif\u001b[39;00m axis \u001b[39mis\u001b[39;00m \u001b[39mnot\u001b[39;00m \u001b[39mNone\u001b[39;00m \u001b[39mand\u001b[39;00m \u001b[39mgetattr\u001b[39m(the_sum, \u001b[39m\"\u001b[39m\u001b[39mndim\u001b[39m\u001b[39m\"\u001b[39m, \u001b[39mFalse\u001b[39;00m):\n\u001b[0;32m    730\u001b[0m     count \u001b[39m=\u001b[39m cast(np\u001b[39m.\u001b[39mndarray, count)\n",
      "File \u001b[1;32mc:\\Users\\lenovo\\AppData\\Local\\Programs\\Python\\Python311\\Lib\\site-packages\\pandas\\core\\nanops.py:1699\u001b[0m, in \u001b[0;36m_ensure_numeric\u001b[1;34m(x)\u001b[0m\n\u001b[0;32m   1696\u001b[0m             x \u001b[39m=\u001b[39m \u001b[39mcomplex\u001b[39m(x)\n\u001b[0;32m   1697\u001b[0m         \u001b[39mexcept\u001b[39;00m \u001b[39mValueError\u001b[39;00m \u001b[39mas\u001b[39;00m err:\n\u001b[0;32m   1698\u001b[0m             \u001b[39m# e.g. \"foo\"\u001b[39;00m\n\u001b[1;32m-> 1699\u001b[0m             \u001b[39mraise\u001b[39;00m \u001b[39mTypeError\u001b[39;00m(\u001b[39mf\u001b[39m\u001b[39m\"\u001b[39m\u001b[39mCould not convert \u001b[39m\u001b[39m{\u001b[39;00mx\u001b[39m}\u001b[39;00m\u001b[39m to numeric\u001b[39m\u001b[39m\"\u001b[39m) \u001b[39mfrom\u001b[39;00m \u001b[39merr\u001b[39;00m\n\u001b[0;32m   1700\u001b[0m \u001b[39mreturn\u001b[39;00m x\n",
      "\u001b[1;31mTypeError\u001b[0m: Could not convert ClearCloudsCloudsClearCloudsCloudsCloudsCloudsClearCloudsCloudsClearClearCloudsHazeHazeSnowCloudsCloudsSnowSnowMistSnowHazeSnowHazeSnowCloudsSnowMistFogSnowMistSnowMistSnowMistSnowMistHazeSnowMistHazeSnowMistSnowMistMistMistHazeSnowSnowSnowMistSnowMistSnowMistSnowClearClearClearClearClearClearClearClearClearClearClearClearClearClearClearCloudsCloudsCloudsMistMistMistMistHazeHazeMistHazeHazeHazeHazeHazeClearCloudsCloudsClearClearClearClearCloudsCloudsCloudsCloudsCloudsCloudsCloudsCloudsCloudsCloudsCloudsCloudsCloudsCloudsCloudsCloudsCloudsMistMistMistMistHazeCloudsCloudsCloudsCloudsCloudsCloudsCloudsClearCloudsCloudsCloudsCloudsCloudsCloudsCloudsCloudsCloudsRainRainDrizzleDrizzleRainRainDrizzleMistMistMistMistDrizzleMistFogDrizzleMistFogDrizzleMistDrizzleMistDrizzleMistFogDrizzleMistMistDrizzleDrizzleMistDrizzleRainSnowSnowHazeSnowCloudsCloudsSnowCloudsCloudsCloudsCloudsSnowSnowHazeSnowHazeHazeSnowSnowHazeSnowSnowHazeSnowHazeCloudsCloudsCloudsCloudsCloudsCloudsCloudsCloudsCloudsClearCloudsCloudsClearCloudsCloudsClearClearClearClearClearCloudsCloudsClearClearMistSnowCloudsCloudsCloudsCloudsSnowSnowSnowMistSnowCloudsCloudsClearCloudsCloudsSnowSnowSnowHazeCloudsCloudsClearClearCloudsCloudsCloudsCloudsCloudsCloudsCloudsCloudsCloudsCloudsCloudsCloudsCloudsCloudsMistMistMistCloudsCloudsCloudsCloudsHazeSnowCloudsCloudsCloudsCloudsCloudsCloudsCloudsCloudsCloudsSnowHazeCloudsCloudsHazeHazeHazeCloudsCloudsCloudsCloudsClearCloudsCloudsCloudsCloudsCloudsCloudsCloudsCloudsCloudsCloudsCloudsSnowMistSnowHazeMistSnowSnowCloudsCloudsCloudsCloudsCloudsCloudsCloudsCloudsCloudsCloudsCloudsCloudsSnowSnowSnowCloudsCloudsCloudsCloudsCloudsCloudsCloudsCloudsCloudsCloudsCloudsCloudsRainMistSnowSnowSnowMistMistMistMistCloudsCloudsCloudsCloudsCloudsCloudsCloudsCloudsCloudsCloudsCloudsCloudsCloudsCloudsCloudsCloudsCloudsCloudsCloudsCloudsCloudsCloudsCloudsCloudsCloudsCloudsCloudsCloudsCloudsCloudsClearClearClearClearCloudsCloudsCloudsCloudsCloudsClearCloudsCloudsCloudsCloudsCloudsSnowSnowSnowHazeHazeSnowHazeSnowMistRainHazeMistHazeSnowMistMistHazeCloudsSnowCloudsSnowCloudsCloudsCloudsCloudsCloudsCloudsClearClearClearClearClearClearClearCloudsCloudsHazeSnowCloudsCloudsCloudsCloudsCloudsCloudsCloudsCloudsCloudsClearCloudsCloudsCloudsCloudsClearClearClearCloudsCloudsCloudsCloudsCloudsClearCloudsClearClearCloudsClearClearClearClearCloudsCloudsClearClearCloudsCloudsCloudsCloudsCloudsCloudsCloudsCloudsCloudsCloudsCloudsCloudsMistMistMistMistMistMistMistMistMistMistMistMistCloudsMistMistMistCloudsCloudsCloudsCloudsCloudsCloudsCloudsCloudsCloudsCloudsCloudsRainRainRainRainRainRainRainCloudsCloudsCloudsCloudsCloudsSnowCloudsCloudsRainCloudsCloudsCloudsSnowFogSnowMistHazeSnowMistHazeSnowMistHazeSnowCloudsCloudsClearCloudsCloudsClearCloudsCloudsCloudsCloudsCloudsCloudsCloudsCloudsCloudsHazeSnowMistRainSnowMistHazeMistSnowRainHazeRainHazeRainSnowRainHazeHazeHazeCloudsCloudsCloudsCloudsCloudsCloudsCloudsCloudsCloudsClearCloudsCloudsCloudsCloudsCloudsCloudsCloudsCloudsCloudsCloudsCloudsCloudsCloudsCloudsCloudsCloudsCloudsCloudsCloudsCloudsCloudsRainRainRainRainRainRainRainRainCloudsSnowSnowRainSnowSnowHazeSnowCloudsCloudsCloudsCloudsCloudsCloudsClearClearClearCloudsCloudsCloudsSnowHazeSnowSnowSnowHazeSnowHazeHazeSnowHazeHazeHazeCloudsClearClearCloudsCloudsCloudsClearClearClearClearClearClearClearClearCloudsClearCloudsCloudsCloudsCloudsCloudsCloudsCloudsRainCloudsSnowRainRainSnowMistCloudsCloudsCloudsSnowSnowHazeCloudsCloudsCloudsCloudsCloudsCloudsSnowMistCloudsCloudsCloudsCloudsCloudsCloudsCloudsCloudsCloudsCloudsCloudsClearClearClearClearClearClearClearClearClearClearClearClearClearClearClearClearClearClearCloudsCloudsCloudsCloudsCloudsClearCloudsCloudsCloudsCloudsCloudsCloudsCloudsRainCloudsCloudsCloudsRainRainRainRainRainRainRainRainClearClearClearClearClearClearClearClearClearClearRainRainClearClearClearClearClearCloudsCloudsCloudsClearClearClearClearClearClearClearClearClearClearClearClearClearCloudsCloudsCloudsCloudsCloudsCloudsClearMistFogFogMistFogMistSnowMistSnowClearClearClearCloudsCloudsClearClearCloudsClearCloudsClearClearClearClearClearClearCloudsRainCloudsHazeSnowMistSnowMistRainSnowMistSnowSnowMistMistSnowSnowMistSnowMistMistSnowMistSnowMistSnowMistSnowSnowMistSnowMistSnowMistCloudsCloudsSnowHazeMistSnowHazeCloudsCloudsClearClearClearClearClearClearClearClearHazeSnowHazeMistSnowSnowSnowHazeMistSnowClearClearClearClearClearClearCloudsSnowHazeCloudsCloudsHazeHazeHazeMistHazeMistHazeMistMistHazeHazeMistMistHazeMistSnowSnowCloudsCloudsClearClearCloudsCloudsCloudsSnowHazeSnowHazeHazeClearClearClearClearClearClearClearClearClearClearClearCloudsCloudsCloudsCloudsCloudsCloudsCloudsClearClearClearClearCloudsCloudsCloudsSnowMistSnowMistHazeSnowMistHazeMistSnowMistHazeMistHazeHazeMistMistHazeMistHazeSnowHazeMistSnowHazeMistSnowHazeMistSnowHazeMistSnowHazeSnowMistSnowHazeSnowSnowHazeSnowCloudsCloudsCloudsSnowHazeSnowCloudsCloudsHazeHazeMistSnowMistSnowSnowMistSnowMistMistSnowHazeHazeMistMistFogSnowMistFogMistFogMistHazeMistRainMistRainSnowSnowMistHazeSnowSnowSnowHazeCloudsSnowCloudsSnowMistCloudsCloudsCloudsCloudsCloudsCloudsCloudsCloudsCloudsCloudsCloudsCloudsCloudsClearCloudsCloudsCloudsCloudsCloudsClearCloudsCloudsCloudsCloudsClearClearCloudsRainDrizzleCloudsMistFogMistFogClearCloudsClearCloudsClearCloudsClearCloudsClearClearCloudsCloudsCloudsCloudsCloudsClearCloudsCloudsCloudsCloudsSnowSnowSnowSnowMistSnowHazeMistHazeSnowMistRainMistHazeSnowDrizzleMistSnowMistSnowCloudsCloudsSnowSnowSnowSnowCloudsHazeClearClearClearClearClearHazeSnowHazeHazeClearClearClearClearClearClearClearCloudsMistMistMistMistClearClearCloudsHazeHazeCloudsCloudsCloudsHazeClearClearClearClearClearClearClearCloudsCloudsCloudsCloudsClearCloudsClearClearHazeClearClearClearClearClearClearClearClearSnowSnowClearClearCloudsClearCloudsSnowSnowSnowSnowCloudsCloudsCloudsSnowSnowSnowSnowMistHazeSnowMistSnowMistFogSnowMistSnowMistHazeHazeSnowMistSnowSnowMistSnowMistFogSnowMistSnowFogMistSnowMistSnowMistSnowFogHazeHazeSnowMistHazeHazeClearSnowMistSnowMistSnowMistSnowMistSnowHazeSnowSnowCloudsClearClearClearClearHazeCloudsHazeClearClearSnowSnowHazeSnowSnowHazeHazeClearCloudsCloudsCloudsClearCloudsCloudsCloudsCloudsCloudsSnowSnowCloudsCloudsClearClearSnowClearClearClearClearClearClearClearClearClearMistMistSnowClearClearClearClearCloudsClearClearCloudsClearCloudsMistHazeMistMistHazeMistHazeHazeMistHazeMistHazeMistHazeMistHazeHazeHazeCloudsMistDrizzleMistMistHazeFogHazeMistFogHazeMistMistHazeMistHazeMistHazeMistMistMistMistMistHazeHazeMistMistHazeMistHazeClearClearClearClearClearClearClearClearMistFogMistHazeMistHazeFogMistHazeHazeMistMistMistMistHazeMistMistCloudsCloudsMistDrizzleFogRainDrizzleMistSnowDrizzleMistRainSnowDrizzleMistMistMistMistMistFogMistFogMistMistFogMistFogMistRainFogDrizzleMistDrizzleRainDrizzleMistRainDrizzleMistFogRainDrizzleMistMistRainDrizzleMistRainMistFogMistFogRainMistFogDrizzleMistFogDrizzleMistFogMistFogMistFogMistFogMistFogMistMistMistMistCloudsCloudsMistMistDrizzleMistSnowDrizzleMistSnowMistSnowMistSnowRainMistRainMistMistSnowRainMistSnowMistMistHazeMistMistMistCloudsCloudsCloudsClearClearClearCloudsCloudsCloudsCloudsCloudsCloudsCloudsCloudsSnowMistSnowMistSnowMistHazeSnowMistCloudsCloudsCloudsCloudsCloudsCloudsCloudsCloudsCloudsCloudsCloudsCloudsCloudsCloudsCloudsCloudsSnowCloudsCloudsCloudsCloudsClearCloudsCloudsCloudsClearClearClearClearCloudsHazeCloudsCloudsCloudsCloudsCloudsCloudsCloudsCloudsCloudsCloudsCloudsSnowSnowCloudsCloudsClearClearCloudsClearCloudsCloudsCloudsSnowSnowMistSnowMistMistSnowMistHazeMistMistHazeMistMistMistMistMistCloudsCloudsCloudsSnowSnowCloudsCloudsSnowSnowSnowRainSnowRainSnowClearClearClearClearClearClearClearClearClearClearClearClearClearClearClearClearCloudsCloudsCloudsCloudsClearSnowMistSnowMistSnowHazeCloudsClearClearClearCloudsCloudsCloudsCloudsClearClearClearClearCloudsCloudsCloudsCloudsCloudsCloudsCloudsCloudsCloudsCloudsCloudsCloudsClearClearHazeClearClearCloudsCloudsClearCloudsClearCloudsCloudsClearHazeMistMistCloudsCloudsClearCloudsCloudsCloudsClearCloudsCloudsCloudsClearCloudsClearCloudsCloudsCloudsCloudsCloudsCloudsCloudsClearClearCloudsClearCloudsClearCloudsClearCloudsCloudsCloudsCloudsCloudsCloudsCloudsCloudsCloudsCloudsCloudsCloudsCloudsCloudsCloudsCloudsMistHazeMistHazeMistHazeMistHazeMistMistMistHazeMistHazeMistMistHazeMistHazeDrizzleMistSnowMistSnowMistSnowMistSnowMistSnowMistSnowMistSnowMistSnowMistSnowMistSnowSnowHazeSnowClearClearClearClearClearClearClearClearClearClearClearClearClearClearClearClearClearClearClearClearClearClearClearClearCloudsCloudsSnowSnowMistSnowMistSnowHazeSnowHazeSnowMistSnowFogSnowMistFogSnowMistFogSnowMistSnowMistHazeSnowMistSnowHazeHazeSnowHazeSnowSnowHazeSnowHazeHazeSnowHazeSnowHazeSnowSnowSnowSnowSnowMistSnowSnowMistClearClearClearClearClearClearClearClearCloudsCloudsCloudsClearClearCloudsClearClearClearClearClearClearCloudsCloudsClearClearClearClearCloudsCloudsCloudsCloudsCloudsCloudsCloudsClearCloudsCloudsCloudsCloudsCloudsCloudsCloudsCloudsCloudsMistCloudsCloudsMistCloudsCloudsCloudsCloudsCloudsCloudsCloudsClearMistMistCloudsCloudsCloudsCloudsCloudsCloudsCloudsCloudsCloudsCloudsSnowSnowSnowSnowMistSnowMistFogSnowMistFogSnowFogMistSnowFogSnowFogSnowFogSnowFogSnowFogMistCloudsCloudsCloudsCloudsCloudsClearCloudsClearCloudsClearHazeCloudsCloudsSnowMistMistMistMistMistMistHazeCloudsMistMistMistFogMistFogMistFogMistFogSnowMistSnowMistMistMistSnowMistMistMistHazeMistHazeSnowCloudsCloudsClearClearCloudsCloudsCloudsCloudsCloudsClearCloudsCloudsClearClearClearClearCloudsClearCloudsCloudsCloudsClearClearClearSnowSnowSnowSnowSnowSnowHazeSnowSnowSnowSnowSnowSnowClearClearCloudsClearClearClearClearClearClearClearClearClearSnowSnowCloudsCloudsCloudsCloudsCloudsClearCloudsClearClearClearClearClearClearClearSnowClearClearClearClearCloudsCloudsClouds to numeric"
     ]
    }
   ],
   "source": [
    "day['month'] = day['date_time'].dt.month\n",
    "by_month = day.groupby('month').mean()\n",
    "by_month['traffic_volume']\n"
   ]
  },
  {
   "cell_type": "code",
   "execution_count": 13,
   "metadata": {},
   "outputs": [
    {
     "ename": "NameError",
     "evalue": "name 'by_month' is not defined",
     "output_type": "error",
     "traceback": [
      "\u001b[1;31m---------------------------------------------------------------------------\u001b[0m",
      "\u001b[1;31mNameError\u001b[0m                                 Traceback (most recent call last)",
      "Cell \u001b[1;32mIn[13], line 1\u001b[0m\n\u001b[1;32m----> 1\u001b[0m by_month[\u001b[39m'\u001b[39m\u001b[39mtraffic_volume\u001b[39m\u001b[39m'\u001b[39m]\u001b[39m.\u001b[39mplot\u001b[39m.\u001b[39mline()\n",
      "\u001b[1;31mNameError\u001b[0m: name 'by_month' is not defined"
     ]
    }
   ],
   "source": [
    "by_month['traffic_volume'].plot.line()"
   ]
  },
  {
   "attachments": {},
   "cell_type": "markdown",
   "metadata": {},
   "source": [
    "The traffic looks less heavy during cold months (November–February) and more intense during warm months (March–October), with one interesting exception: July. Is there anything special about July? Is traffic significantly less heavy in July each year?\n",
    "\n",
    "To answer the last question, let's see how the traffic volume changed each year in July."
   ]
  },
  {
   "cell_type": "code",
   "execution_count": null,
   "metadata": {},
   "outputs": [],
   "source": [
    "day['year']=day['date_time'].dt.year\n",
    "july=day[day['month']==7]\n",
    "by_year=july.groupby ('year').mean()['traffic_volume'].plot.line()\n"
   ]
  },
  {
   "attachments": {},
   "cell_type": "markdown",
   "metadata": {},
   "source": [
    "Typically, the traffic is pretty heavy in July, similar to the other warm months. The only exception we see is 2016, which had a high decrease in traffic volume. One possible reason for this is road construction — this article from 2016 supports this hypothesis.\n",
    "\n",
    "As a tentative conclusion here, we can say that warm months generally show heavier traffic compared to cold months. In a warm month, you can can expect for each hour of daytime a traffic volume close to 5,000 cars."
   ]
  },
  {
   "attachments": {},
   "cell_type": "markdown",
   "metadata": {},
   "source": [
    "## Time Indicators (II)\n"
   ]
  },
  {
   "attachments": {},
   "cell_type": "markdown",
   "metadata": {},
   "source": [
    "Let's now look at a more granular indicator: day number.\n",
    "\n"
   ]
  },
  {
   "cell_type": "code",
   "execution_count": null,
   "metadata": {},
   "outputs": [],
   "source": [
    "day['dayofweek'] = day['date_time'].dt.dayofweek\n",
    "by_dayofweek = day.groupby('dayofweek').mean()\n",
    "by_dayofweek['traffic_volume']  # 0 is Monday, 6 is Sunday\n",
    "by_dayofweek['traffic_volume'].plot.line()"
   ]
  },
  {
   "attachments": {},
   "cell_type": "markdown",
   "metadata": {},
   "source": [
    "Traffic volume is significantly heavier on business days (Monday – Friday). Except for Monday, we only see values over 5,000 during business days. Traffic is lighter on weekends, with values below 4,000 cars."
   ]
  },
  {
   "attachments": {},
   "cell_type": "markdown",
   "metadata": {},
   "source": [
    "## Time Indicators (III)\n"
   ]
  },
  {
   "attachments": {},
   "cell_type": "markdown",
   "metadata": {},
   "source": [
    "Let's now see what values we have based on time of the day. The weekends, however, will drag down the average values, so we're going to look only at the averages separately.\n",
    "\n"
   ]
  },
  {
   "cell_type": "code",
   "execution_count": null,
   "metadata": {},
   "outputs": [],
   "source": [
    "day['hour'] = day['date_time'].dt.hour\n",
    "bussiness_days = day.copy()[day['dayofweek'] <= 4] # 4 == Friday\n",
    "weekend = day.copy()[day['dayofweek'] >= 5] # 5 == Saturday\n",
    "by_hour_business = bussiness_days.groupby('hour').mean()\n",
    "by_hour_weekend = weekend.groupby('hour').mean()\n",
    "\n",
    "print(by_hour_business['traffic_volume'])\n",
    "print(by_hour_weekend['traffic_volume'])"
   ]
  },
  {
   "cell_type": "code",
   "execution_count": null,
   "metadata": {},
   "outputs": [],
   "source": [
    "plt.figure(figsize=(11,3.5))\n",
    "\n",
    "plt.subplot(1, 2, 1)\n",
    "by_hour_business['traffic_volume'].plot.line()\n",
    "plt.xlim(6,20)\n",
    "plt.ylim(1500,6500)\n",
    "plt.title('Traffic Volume By Hour: Monday–Friday')\n",
    "\n",
    "plt.subplot(1, 2, 2)\n",
    "by_hour_weekend['traffic_volume'].plot.line()\n",
    "plt.xlim(6,20)\n",
    "plt.ylim(1500,6500)\n",
    "plt.title('Traffic Volume By Hour: Weekend')"
   ]
  },
  {
   "attachments": {},
   "cell_type": "markdown",
   "metadata": {},
   "source": [
    "At each hour of the day, the traffic volume is generally higher during business days compared to the weekends. As somehow expected, the rush hours are around 7 and 16 — when most people travel from home to work and back. We see volumes of over 6,000 cars at rush hours.\n",
    "\n",
    "To summarize, we found a few time-related indicators of heavy traffic:\n",
    "\n",
    "- The traffic is usually heavier during warm months (March–October) compared to cold months (November–February).\n",
    "- The traffic is usually heavier on business days compared to weekends.\n",
    "- On business days, the rush hours are around 7 and 16."
   ]
  },
  {
   "attachments": {},
   "cell_type": "markdown",
   "metadata": {},
   "source": [
    "## Weather Indicators\n",
    "Another possible indicator of heavy traffic is weather. The dataset provides us with a few useful columns about weather: temp, rain_1h, snow_1h, clouds_all, weather_main, weather_description.\n",
    "\n",
    "A few of these columns are numerical, so let's start by looking up their correlation values with traffic_volume."
   ]
  },
  {
   "cell_type": "code",
   "execution_count": null,
   "metadata": {},
   "outputs": [],
   "source": [
    "day.corr()['traffic_volume']"
   ]
  },
  {
   "attachments": {},
   "cell_type": "markdown",
   "metadata": {},
   "source": [
    "Temperature shows the strongest correlation with a value of just +0.13. The other relevant columns (rain_1h, snow_1h, clouds_all) don't show any strong correlation with traffic_value.\n",
    "\n",
    "Let's generate a scatter plot to visualize the correlation between temp and traffic_volume."
   ]
  },
  {
   "cell_type": "code",
   "execution_count": null,
   "metadata": {},
   "outputs": [],
   "source": [
    "day.plot.scatter(x='traffic_volume',y='temp')\n",
    "plt.ylim(230, 320) # two wrong 0K temperatures mess up the y-axis\n"
   ]
  },
  {
   "attachments": {},
   "cell_type": "markdown",
   "metadata": {},
   "source": [
    "We can conclude that temperature doesn't look like a solid indicator of heavy traffic.\n",
    "\n",
    "Let's now look at the other weather-related columns: weather_main and weather_description."
   ]
  },
  {
   "cell_type": "code",
   "execution_count": null,
   "metadata": {},
   "outputs": [],
   "source": [
    "by_weather_main = day.groupby('weather_main').mean()\n",
    "by_weather_description = day.groupby('weather_description').mean()"
   ]
  },
  {
   "cell_type": "code",
   "execution_count": null,
   "metadata": {},
   "outputs": [],
   "source": [
    "by_weather_main['traffic_volume'].plot.barh()"
   ]
  },
  {
   "attachments": {},
   "cell_type": "markdown",
   "metadata": {},
   "source": [
    "It looks like there's no weather type where traffic volume exceeds 5,000 cars. This makes finding a heavy traffic indicator more difficult. Let's also group by weather_description, which has a more granular weather classification."
   ]
  },
  {
   "cell_type": "code",
   "execution_count": null,
   "metadata": {},
   "outputs": [],
   "source": [
    "by_weather_description['traffic_volume'].plot.barh(figsize=(5,10))\n"
   ]
  },
  {
   "attachments": {},
   "cell_type": "markdown",
   "metadata": {},
   "source": [
    "It looks like there are three weather types where traffic volume exceeds 5,000:\n",
    "\n",
    "- Shower snow\n",
    "- Light rain and snow\n",
    "- Proximity thunderstorm with drizzle.\n",
    "\n",
    "It's not clear why these weather types have the highest average traffic values — this is bad weather, but not that bad. Perhaps more people take their cars out of the garage when the weather is bad instead of riding a bike or walking."
   ]
  },
  {
   "attachments": {},
   "cell_type": "markdown",
   "metadata": {},
   "source": [
    "# Conclusion\n",
    "\n",
    "In this project, we tried to find a few indicators of heavy traffic on the I-94 Interstate highway. We managed to find two types of indicators:\n",
    "\n",
    "- Time indicators\n",
    "    - The traffic is usually heavier during warm months (March–October) compared to cold months (November–February).\n",
    "    - The traffic is usually heavier on business days compared to the weekends.\n",
    "    - On business days, the rush hours are around 7 and 16.\n",
    "- Weather indicators\n",
    "    - Shower snow\n",
    "    - Light rain and snow\n",
    "    - Proximity thunderstorm with drizzle"
   ]
  },
  {
   "cell_type": "code",
   "execution_count": null,
   "metadata": {},
   "outputs": [],
   "source": []
  }
 ],
 "metadata": {
  "kernelspec": {
   "display_name": "Python 3",
   "language": "python",
   "name": "python3"
  },
  "language_info": {
   "codemirror_mode": {
    "name": "ipython",
    "version": 3
   },
   "file_extension": ".py",
   "mimetype": "text/x-python",
   "name": "python",
   "nbconvert_exporter": "python",
   "pygments_lexer": "ipython3",
   "version": "3.11.4"
  },
  "orig_nbformat": 4
 },
 "nbformat": 4,
 "nbformat_minor": 2
}
